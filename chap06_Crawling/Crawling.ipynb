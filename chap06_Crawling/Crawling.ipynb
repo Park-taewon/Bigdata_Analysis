{
  "nbformat": 4,
  "nbformat_minor": 0,
  "metadata": {
    "colab": {
      "name": "Crawling.ipynb",
      "provenance": []
    },
    "kernelspec": {
      "name": "python3",
      "display_name": "Python 3"
    },
    "language_info": {
      "name": "python"
    }
  },
  "cells": [
    {
      "cell_type": "code",
      "execution_count": 1,
      "metadata": {
        "colab": {
          "base_uri": "https://localhost:8080/"
        },
        "id": "Q8o7xwwKuhir",
        "outputId": "6d235a7b-7eae-442e-dca5-3a7c85c44061"
      },
      "outputs": [
        {
          "output_type": "stream",
          "name": "stdout",
          "text": [
            "Collecting selenium\n",
            "  Downloading selenium-4.1.3-py3-none-any.whl (968 kB)\n",
            "\u001b[?25l\r\u001b[K     |▍                               | 10 kB 21.2 MB/s eta 0:00:01\r\u001b[K     |▊                               | 20 kB 28.1 MB/s eta 0:00:01\r\u001b[K     |█                               | 30 kB 14.5 MB/s eta 0:00:01\r\u001b[K     |█▍                              | 40 kB 10.9 MB/s eta 0:00:01\r\u001b[K     |█▊                              | 51 kB 5.6 MB/s eta 0:00:01\r\u001b[K     |██                              | 61 kB 6.7 MB/s eta 0:00:01\r\u001b[K     |██▍                             | 71 kB 7.1 MB/s eta 0:00:01\r\u001b[K     |██▊                             | 81 kB 5.6 MB/s eta 0:00:01\r\u001b[K     |███                             | 92 kB 6.2 MB/s eta 0:00:01\r\u001b[K     |███▍                            | 102 kB 6.8 MB/s eta 0:00:01\r\u001b[K     |███▊                            | 112 kB 6.8 MB/s eta 0:00:01\r\u001b[K     |████                            | 122 kB 6.8 MB/s eta 0:00:01\r\u001b[K     |████▍                           | 133 kB 6.8 MB/s eta 0:00:01\r\u001b[K     |████▊                           | 143 kB 6.8 MB/s eta 0:00:01\r\u001b[K     |█████                           | 153 kB 6.8 MB/s eta 0:00:01\r\u001b[K     |█████▍                          | 163 kB 6.8 MB/s eta 0:00:01\r\u001b[K     |█████▊                          | 174 kB 6.8 MB/s eta 0:00:01\r\u001b[K     |██████                          | 184 kB 6.8 MB/s eta 0:00:01\r\u001b[K     |██████▍                         | 194 kB 6.8 MB/s eta 0:00:01\r\u001b[K     |██████▊                         | 204 kB 6.8 MB/s eta 0:00:01\r\u001b[K     |███████                         | 215 kB 6.8 MB/s eta 0:00:01\r\u001b[K     |███████▍                        | 225 kB 6.8 MB/s eta 0:00:01\r\u001b[K     |███████▉                        | 235 kB 6.8 MB/s eta 0:00:01\r\u001b[K     |████████▏                       | 245 kB 6.8 MB/s eta 0:00:01\r\u001b[K     |████████▌                       | 256 kB 6.8 MB/s eta 0:00:01\r\u001b[K     |████████▉                       | 266 kB 6.8 MB/s eta 0:00:01\r\u001b[K     |█████████▏                      | 276 kB 6.8 MB/s eta 0:00:01\r\u001b[K     |█████████▌                      | 286 kB 6.8 MB/s eta 0:00:01\r\u001b[K     |█████████▉                      | 296 kB 6.8 MB/s eta 0:00:01\r\u001b[K     |██████████▏                     | 307 kB 6.8 MB/s eta 0:00:01\r\u001b[K     |██████████▌                     | 317 kB 6.8 MB/s eta 0:00:01\r\u001b[K     |██████████▉                     | 327 kB 6.8 MB/s eta 0:00:01\r\u001b[K     |███████████▏                    | 337 kB 6.8 MB/s eta 0:00:01\r\u001b[K     |███████████▌                    | 348 kB 6.8 MB/s eta 0:00:01\r\u001b[K     |███████████▉                    | 358 kB 6.8 MB/s eta 0:00:01\r\u001b[K     |████████████▏                   | 368 kB 6.8 MB/s eta 0:00:01\r\u001b[K     |████████████▌                   | 378 kB 6.8 MB/s eta 0:00:01\r\u001b[K     |████████████▉                   | 389 kB 6.8 MB/s eta 0:00:01\r\u001b[K     |█████████████▏                  | 399 kB 6.8 MB/s eta 0:00:01\r\u001b[K     |█████████████▌                  | 409 kB 6.8 MB/s eta 0:00:01\r\u001b[K     |█████████████▉                  | 419 kB 6.8 MB/s eta 0:00:01\r\u001b[K     |██████████████▏                 | 430 kB 6.8 MB/s eta 0:00:01\r\u001b[K     |██████████████▌                 | 440 kB 6.8 MB/s eta 0:00:01\r\u001b[K     |██████████████▉                 | 450 kB 6.8 MB/s eta 0:00:01\r\u001b[K     |███████████████▏                | 460 kB 6.8 MB/s eta 0:00:01\r\u001b[K     |███████████████▋                | 471 kB 6.8 MB/s eta 0:00:01\r\u001b[K     |████████████████                | 481 kB 6.8 MB/s eta 0:00:01\r\u001b[K     |████████████████▎               | 491 kB 6.8 MB/s eta 0:00:01\r\u001b[K     |████████████████▋               | 501 kB 6.8 MB/s eta 0:00:01\r\u001b[K     |█████████████████               | 512 kB 6.8 MB/s eta 0:00:01\r\u001b[K     |█████████████████▎              | 522 kB 6.8 MB/s eta 0:00:01\r\u001b[K     |█████████████████▋              | 532 kB 6.8 MB/s eta 0:00:01\r\u001b[K     |██████████████████              | 542 kB 6.8 MB/s eta 0:00:01\r\u001b[K     |██████████████████▎             | 552 kB 6.8 MB/s eta 0:00:01\r\u001b[K     |██████████████████▋             | 563 kB 6.8 MB/s eta 0:00:01\r\u001b[K     |███████████████████             | 573 kB 6.8 MB/s eta 0:00:01\r\u001b[K     |███████████████████▎            | 583 kB 6.8 MB/s eta 0:00:01\r\u001b[K     |███████████████████▋            | 593 kB 6.8 MB/s eta 0:00:01\r\u001b[K     |████████████████████            | 604 kB 6.8 MB/s eta 0:00:01\r\u001b[K     |████████████████████▎           | 614 kB 6.8 MB/s eta 0:00:01\r\u001b[K     |████████████████████▋           | 624 kB 6.8 MB/s eta 0:00:01\r\u001b[K     |█████████████████████           | 634 kB 6.8 MB/s eta 0:00:01\r\u001b[K     |█████████████████████▎          | 645 kB 6.8 MB/s eta 0:00:01\r\u001b[K     |█████████████████████▋          | 655 kB 6.8 MB/s eta 0:00:01\r\u001b[K     |██████████████████████          | 665 kB 6.8 MB/s eta 0:00:01\r\u001b[K     |██████████████████████▎         | 675 kB 6.8 MB/s eta 0:00:01\r\u001b[K     |██████████████████████▋         | 686 kB 6.8 MB/s eta 0:00:01\r\u001b[K     |███████████████████████         | 696 kB 6.8 MB/s eta 0:00:01\r\u001b[K     |███████████████████████▍        | 706 kB 6.8 MB/s eta 0:00:01\r\u001b[K     |███████████████████████▊        | 716 kB 6.8 MB/s eta 0:00:01\r\u001b[K     |████████████████████████        | 727 kB 6.8 MB/s eta 0:00:01\r\u001b[K     |████████████████████████▍       | 737 kB 6.8 MB/s eta 0:00:01\r\u001b[K     |████████████████████████▊       | 747 kB 6.8 MB/s eta 0:00:01\r\u001b[K     |█████████████████████████       | 757 kB 6.8 MB/s eta 0:00:01\r\u001b[K     |█████████████████████████▍      | 768 kB 6.8 MB/s eta 0:00:01\r\u001b[K     |█████████████████████████▊      | 778 kB 6.8 MB/s eta 0:00:01\r\u001b[K     |██████████████████████████      | 788 kB 6.8 MB/s eta 0:00:01\r\u001b[K     |██████████████████████████▍     | 798 kB 6.8 MB/s eta 0:00:01\r\u001b[K     |██████████████████████████▊     | 808 kB 6.8 MB/s eta 0:00:01\r\u001b[K     |███████████████████████████     | 819 kB 6.8 MB/s eta 0:00:01\r\u001b[K     |███████████████████████████▍    | 829 kB 6.8 MB/s eta 0:00:01\r\u001b[K     |███████████████████████████▊    | 839 kB 6.8 MB/s eta 0:00:01\r\u001b[K     |████████████████████████████    | 849 kB 6.8 MB/s eta 0:00:01\r\u001b[K     |████████████████████████████▍   | 860 kB 6.8 MB/s eta 0:00:01\r\u001b[K     |████████████████████████████▊   | 870 kB 6.8 MB/s eta 0:00:01\r\u001b[K     |█████████████████████████████   | 880 kB 6.8 MB/s eta 0:00:01\r\u001b[K     |█████████████████████████████▍  | 890 kB 6.8 MB/s eta 0:00:01\r\u001b[K     |█████████████████████████████▊  | 901 kB 6.8 MB/s eta 0:00:01\r\u001b[K     |██████████████████████████████  | 911 kB 6.8 MB/s eta 0:00:01\r\u001b[K     |██████████████████████████████▍ | 921 kB 6.8 MB/s eta 0:00:01\r\u001b[K     |██████████████████████████████▉ | 931 kB 6.8 MB/s eta 0:00:01\r\u001b[K     |███████████████████████████████▏| 942 kB 6.8 MB/s eta 0:00:01\r\u001b[K     |███████████████████████████████▌| 952 kB 6.8 MB/s eta 0:00:01\r\u001b[K     |███████████████████████████████▉| 962 kB 6.8 MB/s eta 0:00:01\r\u001b[K     |████████████████████████████████| 968 kB 6.8 MB/s \n",
            "\u001b[?25hCollecting trio~=0.17\n",
            "  Downloading trio-0.20.0-py3-none-any.whl (359 kB)\n",
            "\u001b[K     |████████████████████████████████| 359 kB 60.4 MB/s \n",
            "\u001b[?25hCollecting trio-websocket~=0.9\n",
            "  Downloading trio_websocket-0.9.2-py3-none-any.whl (16 kB)\n",
            "Collecting urllib3[secure,socks]~=1.26\n",
            "  Downloading urllib3-1.26.9-py2.py3-none-any.whl (138 kB)\n",
            "\u001b[K     |████████████████████████████████| 138 kB 63.7 MB/s \n",
            "\u001b[?25hCollecting async-generator>=1.9\n",
            "  Downloading async_generator-1.10-py3-none-any.whl (18 kB)\n",
            "Requirement already satisfied: attrs>=19.2.0 in /usr/local/lib/python3.7/dist-packages (from trio~=0.17->selenium) (21.4.0)\n",
            "Requirement already satisfied: sortedcontainers in /usr/local/lib/python3.7/dist-packages (from trio~=0.17->selenium) (2.4.0)\n",
            "Collecting outcome\n",
            "  Downloading outcome-1.1.0-py2.py3-none-any.whl (9.7 kB)\n",
            "Collecting sniffio\n",
            "  Downloading sniffio-1.2.0-py3-none-any.whl (10 kB)\n",
            "Requirement already satisfied: idna in /usr/local/lib/python3.7/dist-packages (from trio~=0.17->selenium) (2.10)\n",
            "Collecting wsproto>=0.14\n",
            "  Downloading wsproto-1.1.0-py3-none-any.whl (24 kB)\n",
            "Requirement already satisfied: PySocks!=1.5.7,<2.0,>=1.5.6 in /usr/local/lib/python3.7/dist-packages (from urllib3[secure,socks]~=1.26->selenium) (1.7.1)\n",
            "Collecting pyOpenSSL>=0.14\n",
            "  Downloading pyOpenSSL-22.0.0-py2.py3-none-any.whl (55 kB)\n",
            "\u001b[K     |████████████████████████████████| 55 kB 4.9 MB/s \n",
            "\u001b[?25hCollecting cryptography>=1.3.4\n",
            "  Downloading cryptography-36.0.2-cp36-abi3-manylinux_2_24_x86_64.whl (3.6 MB)\n",
            "\u001b[K     |████████████████████████████████| 3.6 MB 54.2 MB/s \n",
            "\u001b[?25hRequirement already satisfied: certifi in /usr/local/lib/python3.7/dist-packages (from urllib3[secure,socks]~=1.26->selenium) (2021.10.8)\n",
            "Requirement already satisfied: cffi>=1.12 in /usr/local/lib/python3.7/dist-packages (from cryptography>=1.3.4->urllib3[secure,socks]~=1.26->selenium) (1.15.0)\n",
            "Requirement already satisfied: pycparser in /usr/local/lib/python3.7/dist-packages (from cffi>=1.12->cryptography>=1.3.4->urllib3[secure,socks]~=1.26->selenium) (2.21)\n",
            "Collecting h11<1,>=0.9.0\n",
            "  Downloading h11-0.13.0-py3-none-any.whl (58 kB)\n",
            "\u001b[K     |████████████████████████████████| 58 kB 6.8 MB/s \n",
            "\u001b[?25hRequirement already satisfied: typing-extensions in /usr/local/lib/python3.7/dist-packages (from h11<1,>=0.9.0->wsproto>=0.14->trio-websocket~=0.9->selenium) (3.10.0.2)\n",
            "Installing collected packages: sniffio, outcome, h11, cryptography, async-generator, wsproto, urllib3, trio, pyOpenSSL, trio-websocket, selenium\n",
            "  Attempting uninstall: urllib3\n",
            "    Found existing installation: urllib3 1.24.3\n",
            "    Uninstalling urllib3-1.24.3:\n",
            "      Successfully uninstalled urllib3-1.24.3\n",
            "\u001b[31mERROR: pip's dependency resolver does not currently take into account all the packages that are installed. This behaviour is the source of the following dependency conflicts.\n",
            "requests 2.23.0 requires urllib3!=1.25.0,!=1.25.1,<1.26,>=1.21.1, but you have urllib3 1.26.9 which is incompatible.\n",
            "datascience 0.10.6 requires folium==0.2.1, but you have folium 0.8.3 which is incompatible.\u001b[0m\n",
            "Successfully installed async-generator-1.10 cryptography-36.0.2 h11-0.13.0 outcome-1.1.0 pyOpenSSL-22.0.0 selenium-4.1.3 sniffio-1.2.0 trio-0.20.0 trio-websocket-0.9.2 urllib3-1.26.9 wsproto-1.1.0\n",
            "Ign:1 https://developer.download.nvidia.com/compute/cuda/repos/ubuntu1804/x86_64  InRelease\n",
            "Get:2 https://cloud.r-project.org/bin/linux/ubuntu bionic-cran40/ InRelease [3,626 B]\n",
            "Ign:3 https://developer.download.nvidia.com/compute/machine-learning/repos/ubuntu1804/x86_64  InRelease\n",
            "Get:4 https://developer.download.nvidia.com/compute/cuda/repos/ubuntu1804/x86_64  Release [696 B]\n",
            "Hit:5 https://developer.download.nvidia.com/compute/machine-learning/repos/ubuntu1804/x86_64  Release\n",
            "Get:6 https://developer.download.nvidia.com/compute/cuda/repos/ubuntu1804/x86_64  Release.gpg [836 B]\n",
            "Hit:7 http://archive.ubuntu.com/ubuntu bionic InRelease\n",
            "Get:8 https://cloud.r-project.org/bin/linux/ubuntu bionic-cran40/ Packages [82.3 kB]\n",
            "Get:9 http://archive.ubuntu.com/ubuntu bionic-updates InRelease [88.7 kB]\n",
            "Get:10 http://security.ubuntu.com/ubuntu bionic-security InRelease [88.7 kB]\n",
            "Get:11 http://ppa.launchpad.net/c2d4u.team/c2d4u4.0+/ubuntu bionic InRelease [15.9 kB]\n",
            "Get:13 http://archive.ubuntu.com/ubuntu bionic-backports InRelease [74.6 kB]\n",
            "Get:14 https://developer.download.nvidia.com/compute/cuda/repos/ubuntu1804/x86_64  Packages [951 kB]\n",
            "Hit:15 http://ppa.launchpad.net/cran/libgit2/ubuntu bionic InRelease\n",
            "Get:16 http://ppa.launchpad.net/deadsnakes/ppa/ubuntu bionic InRelease [15.9 kB]\n",
            "Get:17 http://archive.ubuntu.com/ubuntu bionic-updates/multiverse amd64 Packages [29.8 kB]\n",
            "Get:18 http://archive.ubuntu.com/ubuntu bionic-updates/restricted amd64 Packages [918 kB]\n",
            "Get:19 http://ppa.launchpad.net/graphics-drivers/ppa/ubuntu bionic InRelease [21.3 kB]\n",
            "Get:20 http://archive.ubuntu.com/ubuntu bionic-updates/universe amd64 Packages [2,267 kB]\n",
            "Get:21 http://archive.ubuntu.com/ubuntu bionic-updates/main amd64 Packages [3,132 kB]\n",
            "Get:22 http://archive.ubuntu.com/ubuntu bionic-backports/main amd64 Packages [12.2 kB]\n",
            "Get:23 http://archive.ubuntu.com/ubuntu bionic-backports/universe amd64 Packages [12.9 kB]\n",
            "Get:24 http://ppa.launchpad.net/c2d4u.team/c2d4u4.0+/ubuntu bionic/main Sources [1,831 kB]\n",
            "Get:25 http://security.ubuntu.com/ubuntu bionic-security/restricted amd64 Packages [884 kB]\n",
            "Get:26 http://security.ubuntu.com/ubuntu bionic-security/universe amd64 Packages [1,489 kB]\n",
            "Get:27 http://security.ubuntu.com/ubuntu bionic-security/main amd64 Packages [2,693 kB]\n",
            "Get:28 http://ppa.launchpad.net/c2d4u.team/c2d4u4.0+/ubuntu bionic/main amd64 Packages [938 kB]\n",
            "Get:29 http://ppa.launchpad.net/deadsnakes/ppa/ubuntu bionic/main amd64 Packages [45.3 kB]\n",
            "Get:30 http://ppa.launchpad.net/graphics-drivers/ppa/ubuntu bionic/main amd64 Packages [44.3 kB]\n",
            "Fetched 15.6 MB in 5s (3,008 kB/s)\n",
            "Reading package lists... Done\n",
            "Reading package lists... Done\n",
            "Building dependency tree       \n",
            "Reading state information... Done\n",
            "The following additional packages will be installed:\n",
            "  chromium-browser chromium-browser-l10n chromium-codecs-ffmpeg-extra\n",
            "Suggested packages:\n",
            "  webaccounts-chromium-extension unity-chromium-extension\n",
            "The following NEW packages will be installed:\n",
            "  chromium-browser chromium-browser-l10n chromium-chromedriver\n",
            "  chromium-codecs-ffmpeg-extra\n",
            "0 upgraded, 4 newly installed, 0 to remove and 94 not upgraded.\n",
            "Need to get 88.3 MB of archives.\n",
            "After this operation, 294 MB of additional disk space will be used.\n",
            "Get:1 http://archive.ubuntu.com/ubuntu bionic-updates/universe amd64 chromium-codecs-ffmpeg-extra amd64 99.0.4844.84-0ubuntu0.18.04.1 [1,142 kB]\n",
            "Get:2 http://archive.ubuntu.com/ubuntu bionic-updates/universe amd64 chromium-browser amd64 99.0.4844.84-0ubuntu0.18.04.1 [77.7 MB]\n",
            "Get:3 http://archive.ubuntu.com/ubuntu bionic-updates/universe amd64 chromium-browser-l10n all 99.0.4844.84-0ubuntu0.18.04.1 [4,397 kB]\n",
            "Get:4 http://archive.ubuntu.com/ubuntu bionic-updates/universe amd64 chromium-chromedriver amd64 99.0.4844.84-0ubuntu0.18.04.1 [5,092 kB]\n",
            "Fetched 88.3 MB in 6s (15.5 MB/s)\n",
            "Selecting previously unselected package chromium-codecs-ffmpeg-extra.\n",
            "(Reading database ... 156210 files and directories currently installed.)\n",
            "Preparing to unpack .../chromium-codecs-ffmpeg-extra_99.0.4844.84-0ubuntu0.18.04.1_amd64.deb ...\n",
            "Unpacking chromium-codecs-ffmpeg-extra (99.0.4844.84-0ubuntu0.18.04.1) ...\n",
            "Selecting previously unselected package chromium-browser.\n",
            "Preparing to unpack .../chromium-browser_99.0.4844.84-0ubuntu0.18.04.1_amd64.deb ...\n",
            "Unpacking chromium-browser (99.0.4844.84-0ubuntu0.18.04.1) ...\n",
            "Selecting previously unselected package chromium-browser-l10n.\n",
            "Preparing to unpack .../chromium-browser-l10n_99.0.4844.84-0ubuntu0.18.04.1_all.deb ...\n",
            "Unpacking chromium-browser-l10n (99.0.4844.84-0ubuntu0.18.04.1) ...\n",
            "Selecting previously unselected package chromium-chromedriver.\n",
            "Preparing to unpack .../chromium-chromedriver_99.0.4844.84-0ubuntu0.18.04.1_amd64.deb ...\n",
            "Unpacking chromium-chromedriver (99.0.4844.84-0ubuntu0.18.04.1) ...\n",
            "Setting up chromium-codecs-ffmpeg-extra (99.0.4844.84-0ubuntu0.18.04.1) ...\n",
            "Setting up chromium-browser (99.0.4844.84-0ubuntu0.18.04.1) ...\n",
            "update-alternatives: using /usr/bin/chromium-browser to provide /usr/bin/x-www-browser (x-www-browser) in auto mode\n",
            "update-alternatives: using /usr/bin/chromium-browser to provide /usr/bin/gnome-www-browser (gnome-www-browser) in auto mode\n",
            "Setting up chromium-chromedriver (99.0.4844.84-0ubuntu0.18.04.1) ...\n",
            "Setting up chromium-browser-l10n (99.0.4844.84-0ubuntu0.18.04.1) ...\n",
            "Processing triggers for man-db (2.8.3-2ubuntu0.1) ...\n",
            "Processing triggers for hicolor-icon-theme (0.17-2) ...\n",
            "Processing triggers for mime-support (3.60ubuntu1) ...\n",
            "Processing triggers for libc-bin (2.27-3ubuntu1.3) ...\n",
            "/sbin/ldconfig.real: /usr/local/lib/python3.7/dist-packages/ideep4py/lib/libmkldnn.so.0 is not a symbolic link\n",
            "\n",
            "cp: '/usr/lib/chromium-browser/chromedriver' and '/usr/bin/chromedriver' are the same file\n",
            "Requirement already satisfied: tqdm in /usr/local/lib/python3.7/dist-packages (4.63.0)\n"
          ]
        }
      ],
      "source": [
        "!pip install selenium\n",
        "!apt-get update\n",
        "!apt install chromium-chromedriver\n",
        "!cp /usr/lib/chromium-browser/chromedriver /usr/bin\n",
        "!pip install tqdm"
      ]
    },
    {
      "cell_type": "code",
      "source": [
        "import time\n",
        "from selenium import webdriver\n",
        "from tqdm import tqdm\n",
        "\n",
        "options = webdriver.ChromeOptions()\n",
        "options.add_argument('--headless')\n",
        "options.add_argument('--no-sandbox')\n",
        "options.add_argument('--disable-dev-shm-usage')\n",
        "driver = webdriver.Chrome('chromedriver', options=options)\n",
        "\n",
        "url = \"https://www.naver.com/\" \n",
        "driver.get(url)\n",
        " \n",
        "update = driver.find_element_by_css_selector('#NM_TS_ROLLING_WRAP > div > div')\n",
        "print(update.text)"
      ],
      "metadata": {
        "colab": {
          "base_uri": "https://localhost:8080/"
        },
        "id": "DTk38B_3upG4",
        "outputId": "d80713de-104d-4a36-e581-be0bb4aa25cc"
      },
      "execution_count": 13,
      "outputs": [
        {
          "output_type": "stream",
          "name": "stdout",
          "text": [
            "이슈\n",
            "코로나바이러스감염증-19 현황\n"
          ]
        },
        {
          "output_type": "stream",
          "name": "stderr",
          "text": [
            "/usr/local/lib/python3.7/dist-packages/ipykernel_launcher.py:14: DeprecationWarning: find_element_by_css_selector is deprecated. Please use find_element(by=By.CSS_SELECTOR, value=css_selector) instead\n",
            "  \n"
          ]
        }
      ]
    },
    {
      "cell_type": "code",
      "source": [
        "from selenium.webdriver.common.keys import Keys\n",
        "\n",
        "# driver.get('https://search.naver.com/search.naver?query=%EC%BD%94%EB%A1%9C%EB%82%98&where=news&ie=utf8&sm=nws_hty')\n",
        "driver.get('https://search.naver.com/search.naver?sm=tab_hty.top&where=news&query=%EC%B9%B4%EC%B9%B4%EC%98%A4%ED%8E%98%EC%9D%B4&oquery=%EB%8C%80%ED%95%9C%ED%95%AD%EA%B3%B5&tqi=hC0%2Ffwp0Jy0ssKdXT1Rssssst1V-114535')\n",
        "elem_option = driver.find_element_by_xpath('//*[@id=\"snb\"]/div[1]/div/div[2]/a')\n",
        "elem_option.send_keys('\\n')\n",
        "elem_option.send_keys(Keys.ENTER)\n",
        "\n",
        "elem_input = driver.find_element_by_xpath('//*[@id=\"snb\"]/div[2]/ul/li[2]/div/div[1]/a[9]')\n",
        "elem_input.send_keys('\\n')\n",
        "\n",
        "naver_news_link = []"
      ],
      "metadata": {
        "colab": {
          "base_uri": "https://localhost:8080/"
        },
        "id": "LlAFGWMHu7C2",
        "outputId": "949a42c5-fdf5-4126-8d3f-3da0a04cbc1c"
      },
      "execution_count": 14,
      "outputs": [
        {
          "output_type": "stream",
          "name": "stderr",
          "text": [
            "/usr/local/lib/python3.7/dist-packages/ipykernel_launcher.py:5: DeprecationWarning: find_element_by_xpath is deprecated. Please use find_element(by=By.XPATH, value=xpath) instead\n",
            "  \"\"\"\n",
            "/usr/local/lib/python3.7/dist-packages/ipykernel_launcher.py:9: DeprecationWarning: find_element_by_xpath is deprecated. Please use find_element(by=By.XPATH, value=xpath) instead\n",
            "  if __name__ == '__main__':\n"
          ]
        }
      ]
    },
    {
      "cell_type": "code",
      "source": [
        "def select_date_naver_news(year,month,day):\n",
        "\n",
        "    '''네이버뉴스에서 원하는 날짜의 뉴스를 검색해서 네이버뉴스 링크를 리스트로 return.'''\n",
        "    \n",
        "    # 연(year) 클릭하기\n",
        "    elem_year = driver.find_element_by_xpath(f'//*[@id=\"snb\"]/div[2]/ul/li[2]/div/div[3]/div[2]/div[1]/div/div/div/ul/li[{year-1989}]')\n",
        "    elem_year.click()\n",
        "\n",
        "    # 월(month) 클릭하기\n",
        "    elem_month = driver.find_element_by_xpath(f'//*[@id=\"snb\"]/div[2]/ul/li[2]/div/div[3]/div[2]/div[2]/div/div/div/ul/li[{month}]')\n",
        "    elem_month.click()\n",
        "\n",
        "    # # 날짜(day) 클릭하기\n",
        "    elem_day = driver.find_element_by_xpath(f'//*[@id=\"snb\"]/div[2]/ul/li[2]/div/div[3]/div[2]/div[3]/div/div/div/ul/li[{day}]')\n",
        "    elem_day.click()\n",
        "\n",
        "    # 끝나는 날짜 클릭하기\n",
        "    driver.find_element_by_xpath('//*[@id=\"snb\"]/div[2]/ul/li[2]/div/div[3]/div[1]/span[3]/a').click()\n",
        "\n",
        "    # 연(year) 클릭하기\n",
        "    elem_year = driver.find_element_by_xpath(f'//*[@id=\"snb\"]/div[2]/ul/li[2]/div/div[3]/div[2]/div[1]/div/div/div/ul/li[{year-1989}]')\n",
        "    elem_year.click()\n",
        "\n",
        "    # 월(month) 클릭하기\n",
        "    elem_month = driver.find_element_by_xpath(f'//*[@id=\"snb\"]/div[2]/ul/li[2]/div/div[3]/div[2]/div[2]/div/div/div/ul/li[{month}]')\n",
        "    elem_month.click()\n",
        "\n",
        "    # # 날짜(day) 클릭하기\n",
        "    elem_day = driver.find_element_by_xpath(f'//*[@id=\"snb\"]/div[2]/ul/li[2]/div/div[3]/div[2]/div[3]/div/div/div/ul/li[{day}]')\n",
        "    elem_day.click()\n",
        "\n",
        "    # 적용 클릭\n",
        "    driver.find_element_by_xpath('//*[@id=\"snb\"]/div[2]/ul/li[2]/div/div[3]/div[3]/button').click()\n",
        "\n",
        "    naver_news_link = driver.find_elements_by_link_text('네이버뉴스')\n",
        "    links = [link.get_attribute('href') for link in naver_news_link]\n",
        "\n",
        "    # 옵션 초기화 버튼 클릭 \n",
        "    driver.find_element_by_xpath('//*[@id=\"snb\"]/div[2]/ul/li[6]/div/div/a[1]').click()\n",
        "    \n",
        "    time.sleep(2)\n",
        "\n",
        "    # 직접입력 클릭.\n",
        "    elem_input = driver.find_element_by_xpath('/html/body/div[3]/div[2]/div/div[1]/div[1]/div[2]/ul/li[2]/div/div[1]/a[9]')\n",
        "    elem_input.send_keys(Keys.ENTER)\n",
        "    \n",
        "    return links"
      ],
      "metadata": {
        "id": "Q0CEdjYbvKV1"
      },
      "execution_count": 15,
      "outputs": []
    },
    {
      "cell_type": "code",
      "source": [
        "for year in tqdm(range(2021,2023),desc='preprocessing year'):\n",
        "    for month in tqdm(range(1,13),desc='preprocessing month'):\n",
        "        for day in tqdm(range(1,32),desc='preprocessing day'):\n",
        "            try:\n",
        "                res = select_date_naver_news(year=year,month=month,day=day)\n",
        "                naver_news_link.append(res)\n",
        "            except:\n",
        "                pass"
      ],
      "metadata": {
        "colab": {
          "base_uri": "https://localhost:8080/"
        },
        "id": "YbwKeAE8vQUn",
        "outputId": "bff1f976-1c97-450f-b75b-a8cf97f04b72"
      },
      "execution_count": 17,
      "outputs": [
        {
          "output_type": "stream",
          "name": "stderr",
          "text": [
            "preprocessing year:   0%|          | 0/2 [00:00<?, ?it/s]\n",
            "preprocessing month:   0%|          | 0/12 [00:00<?, ?it/s]\u001b[A\n",
            "\n",
            "preprocessing day:   0%|          | 0/31 [00:00<?, ?it/s]\u001b[A\u001b[A/usr/local/lib/python3.7/dist-packages/ipykernel_launcher.py:6: DeprecationWarning: find_element_by_xpath is deprecated. Please use find_element(by=By.XPATH, value=xpath) instead\n",
            "  \n",
            "preprocessing day: 100%|██████████| 31/31 [00:00<00:00, 483.33it/s]\n",
            "\n",
            "\n",
            "preprocessing day:   0%|          | 0/31 [00:00<?, ?it/s]\u001b[A\u001b[A\n",
            "\n",
            "preprocessing day: 100%|██████████| 31/31 [00:00<00:00, 246.23it/s]\n",
            "\n",
            "preprocessing month:  17%|█▋        | 2/12 [00:00<00:01,  9.72it/s]\u001b[A\n",
            "\n",
            "preprocessing day: 100%|██████████| 31/31 [00:00<00:00, 441.60it/s]\n",
            "\n",
            "\n",
            "preprocessing day: 100%|██████████| 31/31 [00:00<00:00, 479.96it/s]\n",
            "\n",
            "preprocessing month:  33%|███▎      | 4/12 [00:00<00:00, 11.09it/s]\u001b[A\n",
            "\n",
            "preprocessing day: 100%|██████████| 31/31 [00:00<00:00, 478.39it/s]\n",
            "\n",
            "\n",
            "preprocessing day: 100%|██████████| 31/31 [00:00<00:00, 452.27it/s]\n",
            "\n",
            "preprocessing month:  50%|█████     | 6/12 [00:00<00:00, 11.44it/s]\u001b[A\n",
            "\n",
            "preprocessing day: 100%|██████████| 31/31 [00:00<00:00, 421.75it/s]\n",
            "\n",
            "\n",
            "preprocessing day: 100%|██████████| 31/31 [00:00<00:00, 432.32it/s]\n",
            "\n",
            "preprocessing month:  67%|██████▋   | 8/12 [00:00<00:00, 11.59it/s]\u001b[A\n",
            "\n",
            "preprocessing day: 100%|██████████| 31/31 [00:00<00:00, 450.35it/s]\n",
            "\n",
            "\n",
            "preprocessing day: 100%|██████████| 31/31 [00:00<00:00, 445.94it/s]\n",
            "\n",
            "preprocessing month:  83%|████████▎ | 10/12 [00:00<00:00, 11.65it/s]\u001b[A\n",
            "\n",
            "preprocessing day: 100%|██████████| 31/31 [00:00<00:00, 498.74it/s]\n",
            "\n",
            "\n",
            "preprocessing day: 100%|██████████| 31/31 [00:00<00:00, 498.28it/s]\n",
            "\n",
            "preprocessing month: 100%|██████████| 12/12 [00:01<00:00, 11.46it/s]\n",
            "preprocessing year:  50%|█████     | 1/2 [00:01<00:01,  1.06s/it]\n",
            "preprocessing month:   0%|          | 0/12 [00:00<?, ?it/s]\u001b[A\n",
            "\n",
            "preprocessing day: 100%|██████████| 31/31 [00:00<00:00, 387.58it/s]\n",
            "\n",
            "\n",
            "preprocessing day: 100%|██████████| 31/31 [00:00<00:00, 455.26it/s]\n",
            "\n",
            "preprocessing month:  17%|█▋        | 2/12 [00:00<00:00, 12.23it/s]\u001b[A\n",
            "\n",
            "preprocessing day: 100%|██████████| 31/31 [00:00<00:00, 444.88it/s]\n",
            "\n",
            "\n",
            "preprocessing day: 100%|██████████| 31/31 [00:00<00:00, 409.38it/s]\n",
            "\n",
            "preprocessing month:  33%|███▎      | 4/12 [00:00<00:00, 11.47it/s]\u001b[A\n",
            "\n",
            "preprocessing day: 100%|██████████| 31/31 [00:00<00:00, 461.76it/s]\n",
            "\n",
            "\n",
            "preprocessing day: 100%|██████████| 31/31 [00:00<00:00, 500.37it/s]\n",
            "\n",
            "preprocessing month:  50%|█████     | 6/12 [00:00<00:00, 12.05it/s]\u001b[A\n",
            "\n",
            "preprocessing day: 100%|██████████| 31/31 [00:00<00:00, 469.36it/s]\n",
            "\n",
            "\n",
            "preprocessing day: 100%|██████████| 31/31 [00:00<00:00, 488.92it/s]\n",
            "\n",
            "preprocessing month:  67%|██████▋   | 8/12 [00:00<00:00, 12.49it/s]\u001b[A\n",
            "\n",
            "preprocessing day: 100%|██████████| 31/31 [00:00<00:00, 413.53it/s]\n",
            "\n",
            "\n",
            "preprocessing day: 100%|██████████| 31/31 [00:00<00:00, 451.96it/s]\n",
            "\n",
            "preprocessing month:  83%|████████▎ | 10/12 [00:00<00:00, 12.43it/s]\u001b[A\n",
            "\n",
            "preprocessing day: 100%|██████████| 31/31 [00:00<00:00, 452.16it/s]\n",
            "\n",
            "\n",
            "preprocessing day: 100%|██████████| 31/31 [00:00<00:00, 480.09it/s]\n",
            "\n",
            "preprocessing month: 100%|██████████| 12/12 [00:00<00:00, 12.06it/s]\n",
            "preprocessing year: 100%|██████████| 2/2 [00:02<00:00,  1.04s/it]\n"
          ]
        }
      ]
    },
    {
      "cell_type": "code",
      "source": [
        "naver_news_title = []\n",
        "naver_news_content = []\n",
        "\n",
        "for n in tqdm(range(len(naver_news_link)),desc='preprocessing'):\n",
        "    news_page_title = []\n",
        "    news_page_content = []\n",
        "\n",
        "    for idx in range(len(naver_news_link[n])):\n",
        "        \n",
        "        ######## 긇어온 URL로 접속하기 ########\n",
        "        try:\n",
        "            driver.get(naver_news_link[n][idx])\n",
        "        except:\n",
        "            print(\"Time Out!\")\n",
        "            continue\n",
        "\n",
        "        ######## 접속한 URL에서 page_source받아오기 ########\n",
        "        try:\n",
        "            response = driver.page_source\n",
        "        except UnexpectedAlertPresentException:\n",
        "            driver.switch_to_alert().alert()\n",
        "            print(\"게시글이 삭제된 경우입니다.\")\n",
        "            continue\n",
        "        soup = BeautifulSoup(response,'html.parser')\n",
        "\n",
        "        ##### 뉴스 타이틀 긇어오기 #####\n",
        "        title = None\n",
        "        try:\n",
        "            item = soup.find('div',class_='article_info')\n",
        "            title = item.find('h3', class_='tts_head').get_text()\n",
        "        except:\n",
        "            title = \"OUT_LINK\"\n",
        "        \n",
        "        news_page_title.append(title)\n",
        "\n",
        "        ###### 뉴스 본문 긇어오기 #####\n",
        "        doc = None\n",
        "        text = ''\n",
        "\n",
        "        data = soup.find_all(\"div\",{\"class\":\"_article_body_contents\"})\n",
        "        if data:\n",
        "            for item in data:\n",
        "                if item.find('script',type='text/javascript'):\n",
        "                    item.find('script',type='text/javascript').decompose()\n",
        "                elif item.find('span','end_photo_org'):\n",
        "                    item.find('span','end_photo_org').decompose()\n",
        "                text = item.get_text()\n",
        "                doc = ''.join(text)\n",
        "        else:\n",
        "            doc = \"OUT_LINK\"\n",
        "\n",
        "        news_page_content.append(doc.replace('\\n',' '))\n",
        "\n",
        "    naver_news_title.append(news_page_title)\n",
        "    naver_news_content.append(news_page_content)\n",
        "\n",
        "    time.sleep(2)"
      ],
      "metadata": {
        "colab": {
          "base_uri": "https://localhost:8080/"
        },
        "id": "ZOyZdwsyx4bH",
        "outputId": "23b8df8e-ba7d-4c41-df38-37adaeefcbc3"
      },
      "execution_count": 18,
      "outputs": [
        {
          "output_type": "stream",
          "name": "stderr",
          "text": [
            "\rpreprocessing:   0%|          | 0/229 [00:00<?, ?it/s]"
          ]
        },
        {
          "output_type": "stream",
          "name": "stdout",
          "text": [
            "Time Out!\n",
            "Time Out!\n",
            "Time Out!\n",
            "Time Out!\n",
            "Time Out!\n"
          ]
        },
        {
          "output_type": "stream",
          "name": "stderr",
          "text": [
            "\rpreprocessing:   0%|          | 1/229 [00:02<07:41,  2.02s/it]"
          ]
        },
        {
          "output_type": "stream",
          "name": "stdout",
          "text": [
            "Time Out!\n",
            "Time Out!\n",
            "Time Out!\n",
            "Time Out!\n",
            "Time Out!\n",
            "Time Out!\n",
            "Time Out!\n",
            "Time Out!\n",
            "Time Out!\n",
            "Time Out!\n",
            "Time Out!\n",
            "Time Out!\n"
          ]
        },
        {
          "output_type": "stream",
          "name": "stderr",
          "text": [
            "\rpreprocessing:   1%|          | 2/229 [00:04<07:41,  2.03s/it]"
          ]
        },
        {
          "output_type": "stream",
          "name": "stdout",
          "text": [
            "Time Out!\n",
            "Time Out!\n",
            "Time Out!\n",
            "Time Out!\n",
            "Time Out!\n",
            "Time Out!\n"
          ]
        },
        {
          "output_type": "stream",
          "name": "stderr",
          "text": [
            "\rpreprocessing:   1%|▏         | 3/229 [00:06<07:38,  2.03s/it]"
          ]
        },
        {
          "output_type": "stream",
          "name": "stdout",
          "text": [
            "Time Out!\n",
            "Time Out!\n",
            "Time Out!\n"
          ]
        },
        {
          "output_type": "stream",
          "name": "stderr",
          "text": [
            "\rpreprocessing:   2%|▏         | 4/229 [00:08<07:35,  2.02s/it]"
          ]
        },
        {
          "output_type": "stream",
          "name": "stdout",
          "text": [
            "Time Out!\n",
            "Time Out!\n",
            "Time Out!\n",
            "Time Out!\n",
            "Time Out!\n"
          ]
        },
        {
          "output_type": "stream",
          "name": "stderr",
          "text": [
            "\rpreprocessing:   2%|▏         | 5/229 [00:10<07:32,  2.02s/it]"
          ]
        },
        {
          "output_type": "stream",
          "name": "stdout",
          "text": [
            "Time Out!\n",
            "Time Out!\n",
            "Time Out!\n",
            "Time Out!\n",
            "Time Out!\n"
          ]
        },
        {
          "output_type": "stream",
          "name": "stderr",
          "text": [
            "\rpreprocessing:   3%|▎         | 6/229 [00:12<07:30,  2.02s/it]"
          ]
        },
        {
          "output_type": "stream",
          "name": "stdout",
          "text": [
            "Time Out!\n",
            "Time Out!\n",
            "Time Out!\n",
            "Time Out!\n",
            "Time Out!\n",
            "Time Out!\n",
            "Time Out!\n",
            "Time Out!\n",
            "Time Out!\n"
          ]
        },
        {
          "output_type": "stream",
          "name": "stderr",
          "text": [
            "\rpreprocessing:   3%|▎         | 7/229 [00:14<07:29,  2.02s/it]"
          ]
        },
        {
          "output_type": "stream",
          "name": "stdout",
          "text": [
            "Time Out!\n",
            "Time Out!\n",
            "Time Out!\n",
            "Time Out!\n",
            "Time Out!\n",
            "Time Out!\n",
            "Time Out!\n",
            "Time Out!\n",
            "Time Out!\n",
            "Time Out!\n",
            "Time Out!\n",
            "Time Out!\n",
            "Time Out!\n",
            "Time Out!\n",
            "Time Out!\n"
          ]
        },
        {
          "output_type": "stream",
          "name": "stderr",
          "text": [
            "\rpreprocessing:   3%|▎         | 8/229 [00:16<07:29,  2.03s/it]"
          ]
        },
        {
          "output_type": "stream",
          "name": "stdout",
          "text": [
            "Time Out!\n",
            "Time Out!\n",
            "Time Out!\n",
            "Time Out!\n",
            "Time Out!\n",
            "Time Out!\n",
            "Time Out!\n",
            "Time Out!\n"
          ]
        },
        {
          "output_type": "stream",
          "name": "stderr",
          "text": [
            "\rpreprocessing:   4%|▍         | 9/229 [00:18<07:27,  2.03s/it]"
          ]
        },
        {
          "output_type": "stream",
          "name": "stdout",
          "text": [
            "Time Out!\n",
            "Time Out!\n",
            "Time Out!\n",
            "Time Out!\n",
            "Time Out!\n",
            "Time Out!\n",
            "Time Out!\n",
            "Time Out!\n",
            "Time Out!\n"
          ]
        },
        {
          "output_type": "stream",
          "name": "stderr",
          "text": [
            "\rpreprocessing:   4%|▍         | 10/229 [00:20<07:25,  2.03s/it]"
          ]
        },
        {
          "output_type": "stream",
          "name": "stdout",
          "text": [
            "Time Out!\n",
            "Time Out!\n"
          ]
        },
        {
          "output_type": "stream",
          "name": "stderr",
          "text": [
            "\rpreprocessing:   5%|▍         | 11/229 [00:22<07:21,  2.03s/it]"
          ]
        },
        {
          "output_type": "stream",
          "name": "stdout",
          "text": [
            "Time Out!\n",
            "Time Out!\n",
            "Time Out!\n",
            "Time Out!\n",
            "Time Out!\n",
            "Time Out!\n",
            "Time Out!\n",
            "Time Out!\n",
            "Time Out!\n",
            "Time Out!\n"
          ]
        },
        {
          "output_type": "stream",
          "name": "stderr",
          "text": [
            "\rpreprocessing:   5%|▌         | 12/229 [00:24<07:20,  2.03s/it]"
          ]
        },
        {
          "output_type": "stream",
          "name": "stdout",
          "text": [
            "Time Out!\n",
            "Time Out!\n"
          ]
        },
        {
          "output_type": "stream",
          "name": "stderr",
          "text": [
            "\rpreprocessing:   6%|▌         | 13/229 [00:26<07:17,  2.02s/it]"
          ]
        },
        {
          "output_type": "stream",
          "name": "stdout",
          "text": [
            "Time Out!\n",
            "Time Out!\n",
            "Time Out!\n",
            "Time Out!\n",
            "Time Out!\n",
            "Time Out!\n",
            "Time Out!\n",
            "Time Out!\n"
          ]
        },
        {
          "output_type": "stream",
          "name": "stderr",
          "text": [
            "\rpreprocessing:   6%|▌         | 14/229 [00:28<07:15,  2.02s/it]"
          ]
        },
        {
          "output_type": "stream",
          "name": "stdout",
          "text": [
            "Time Out!\n",
            "Time Out!\n",
            "Time Out!\n",
            "Time Out!\n",
            "Time Out!\n",
            "Time Out!\n"
          ]
        },
        {
          "output_type": "stream",
          "name": "stderr",
          "text": [
            "\rpreprocessing:   7%|▋         | 15/229 [00:30<07:13,  2.03s/it]"
          ]
        },
        {
          "output_type": "stream",
          "name": "stdout",
          "text": [
            "Time Out!\n",
            "Time Out!\n",
            "Time Out!\n",
            "Time Out!\n",
            "Time Out!\n"
          ]
        },
        {
          "output_type": "stream",
          "name": "stderr",
          "text": [
            "\rpreprocessing:   7%|▋         | 16/229 [00:32<07:11,  2.02s/it]"
          ]
        },
        {
          "output_type": "stream",
          "name": "stdout",
          "text": [
            "Time Out!\n",
            "Time Out!\n",
            "Time Out!\n",
            "Time Out!\n"
          ]
        },
        {
          "output_type": "stream",
          "name": "stderr",
          "text": [
            "\rpreprocessing:   7%|▋         | 17/229 [00:34<07:08,  2.02s/it]"
          ]
        },
        {
          "output_type": "stream",
          "name": "stdout",
          "text": [
            "Time Out!\n",
            "Time Out!\n"
          ]
        },
        {
          "output_type": "stream",
          "name": "stderr",
          "text": [
            "\rpreprocessing:   8%|▊         | 18/229 [00:36<07:05,  2.02s/it]"
          ]
        },
        {
          "output_type": "stream",
          "name": "stdout",
          "text": [
            "Time Out!\n",
            "Time Out!\n",
            "Time Out!\n",
            "Time Out!\n",
            "Time Out!\n",
            "Time Out!\n"
          ]
        },
        {
          "output_type": "stream",
          "name": "stderr",
          "text": [
            "\rpreprocessing:   8%|▊         | 19/229 [00:38<07:03,  2.02s/it]"
          ]
        },
        {
          "output_type": "stream",
          "name": "stdout",
          "text": [
            "Time Out!\n",
            "Time Out!\n"
          ]
        },
        {
          "output_type": "stream",
          "name": "stderr",
          "text": [
            "\rpreprocessing:   9%|▊         | 20/229 [00:40<07:01,  2.02s/it]"
          ]
        },
        {
          "output_type": "stream",
          "name": "stdout",
          "text": [
            "Time Out!\n",
            "Time Out!\n",
            "Time Out!\n",
            "Time Out!\n",
            "Time Out!\n",
            "Time Out!\n"
          ]
        },
        {
          "output_type": "stream",
          "name": "stderr",
          "text": [
            "\rpreprocessing:   9%|▉         | 21/229 [00:42<06:59,  2.02s/it]"
          ]
        },
        {
          "output_type": "stream",
          "name": "stdout",
          "text": [
            "Time Out!\n",
            "Time Out!\n",
            "Time Out!\n",
            "Time Out!\n",
            "Time Out!\n",
            "Time Out!\n",
            "Time Out!\n",
            "Time Out!\n",
            "Time Out!\n",
            "Time Out!\n",
            "Time Out!\n",
            "Time Out!\n",
            "Time Out!\n"
          ]
        },
        {
          "output_type": "stream",
          "name": "stderr",
          "text": [
            "\rpreprocessing:  10%|▉         | 22/229 [00:44<06:58,  2.02s/it]"
          ]
        },
        {
          "output_type": "stream",
          "name": "stdout",
          "text": [
            "Time Out!\n",
            "Time Out!\n",
            "Time Out!\n",
            "Time Out!\n",
            "Time Out!\n",
            "Time Out!\n",
            "Time Out!\n",
            "Time Out!\n",
            "Time Out!\n",
            "Time Out!\n"
          ]
        },
        {
          "output_type": "stream",
          "name": "stderr",
          "text": [
            "\rpreprocessing:  10%|█         | 23/229 [00:46<06:57,  2.03s/it]"
          ]
        },
        {
          "output_type": "stream",
          "name": "stdout",
          "text": [
            "Time Out!\n",
            "Time Out!\n",
            "Time Out!\n",
            "Time Out!\n",
            "Time Out!\n"
          ]
        },
        {
          "output_type": "stream",
          "name": "stderr",
          "text": [
            "\rpreprocessing:  10%|█         | 24/229 [00:48<06:54,  2.02s/it]"
          ]
        },
        {
          "output_type": "stream",
          "name": "stdout",
          "text": [
            "Time Out!\n",
            "Time Out!\n",
            "Time Out!\n",
            "Time Out!\n"
          ]
        },
        {
          "output_type": "stream",
          "name": "stderr",
          "text": [
            "\rpreprocessing:  11%|█         | 25/229 [00:50<06:52,  2.02s/it]"
          ]
        },
        {
          "output_type": "stream",
          "name": "stdout",
          "text": [
            "Time Out!\n",
            "Time Out!\n",
            "Time Out!\n",
            "Time Out!\n",
            "Time Out!\n"
          ]
        },
        {
          "output_type": "stream",
          "name": "stderr",
          "text": [
            "\rpreprocessing:  11%|█▏        | 26/229 [00:52<06:50,  2.02s/it]"
          ]
        },
        {
          "output_type": "stream",
          "name": "stdout",
          "text": [
            "Time Out!\n",
            "Time Out!\n",
            "Time Out!\n",
            "Time Out!\n"
          ]
        },
        {
          "output_type": "stream",
          "name": "stderr",
          "text": [
            "\rpreprocessing:  12%|█▏        | 27/229 [00:54<06:47,  2.02s/it]"
          ]
        },
        {
          "output_type": "stream",
          "name": "stdout",
          "text": [
            "Time Out!\n",
            "Time Out!\n",
            "Time Out!\n",
            "Time Out!\n",
            "Time Out!\n",
            "Time Out!\n",
            "Time Out!\n"
          ]
        },
        {
          "output_type": "stream",
          "name": "stderr",
          "text": [
            "\rpreprocessing:  12%|█▏        | 28/229 [00:56<06:46,  2.02s/it]"
          ]
        },
        {
          "output_type": "stream",
          "name": "stdout",
          "text": [
            "Time Out!\n",
            "Time Out!\n",
            "Time Out!\n"
          ]
        },
        {
          "output_type": "stream",
          "name": "stderr",
          "text": [
            "\rpreprocessing:  13%|█▎        | 29/229 [00:58<06:43,  2.02s/it]"
          ]
        },
        {
          "output_type": "stream",
          "name": "stdout",
          "text": [
            "Time Out!\n",
            "Time Out!\n",
            "Time Out!\n",
            "Time Out!\n",
            "Time Out!\n"
          ]
        },
        {
          "output_type": "stream",
          "name": "stderr",
          "text": [
            "\rpreprocessing:  13%|█▎        | 30/229 [01:00<06:41,  2.02s/it]"
          ]
        },
        {
          "output_type": "stream",
          "name": "stdout",
          "text": [
            "Time Out!\n",
            "Time Out!\n",
            "Time Out!\n",
            "Time Out!\n",
            "Time Out!\n"
          ]
        },
        {
          "output_type": "stream",
          "name": "stderr",
          "text": [
            "preprocessing:  14%|█▍        | 32/229 [01:04<06:36,  2.01s/it]"
          ]
        },
        {
          "output_type": "stream",
          "name": "stdout",
          "text": [
            "Time Out!\n"
          ]
        },
        {
          "output_type": "stream",
          "name": "stderr",
          "text": [
            "\rpreprocessing:  14%|█▍        | 33/229 [01:06<06:34,  2.01s/it]"
          ]
        },
        {
          "output_type": "stream",
          "name": "stdout",
          "text": [
            "Time Out!\n",
            "Time Out!\n",
            "Time Out!\n",
            "Time Out!\n"
          ]
        },
        {
          "output_type": "stream",
          "name": "stderr",
          "text": [
            "\rpreprocessing:  15%|█▍        | 34/229 [01:08<06:32,  2.01s/it]"
          ]
        },
        {
          "output_type": "stream",
          "name": "stdout",
          "text": [
            "Time Out!\n",
            "Time Out!\n",
            "Time Out!\n",
            "Time Out!\n",
            "Time Out!\n",
            "Time Out!\n",
            "Time Out!\n",
            "Time Out!\n"
          ]
        },
        {
          "output_type": "stream",
          "name": "stderr",
          "text": [
            "\rpreprocessing:  15%|█▌        | 35/229 [01:10<06:31,  2.02s/it]"
          ]
        },
        {
          "output_type": "stream",
          "name": "stdout",
          "text": [
            "Time Out!\n",
            "Time Out!\n",
            "Time Out!\n",
            "Time Out!\n",
            "Time Out!\n",
            "Time Out!\n",
            "Time Out!\n",
            "Time Out!\n",
            "Time Out!\n",
            "Time Out!\n",
            "Time Out!\n",
            "Time Out!\n",
            "Time Out!\n",
            "Time Out!\n",
            "Time Out!\n",
            "Time Out!\n",
            "Time Out!\n",
            "Time Out!\n",
            "Time Out!\n",
            "Time Out!\n",
            "Time Out!\n",
            "Time Out!\n"
          ]
        },
        {
          "output_type": "stream",
          "name": "stderr",
          "text": [
            "\rpreprocessing:  16%|█▌        | 36/229 [01:12<06:31,  2.03s/it]"
          ]
        },
        {
          "output_type": "stream",
          "name": "stdout",
          "text": [
            "Time Out!\n",
            "Time Out!\n",
            "Time Out!\n",
            "Time Out!\n",
            "Time Out!\n",
            "Time Out!\n",
            "Time Out!\n",
            "Time Out!\n",
            "Time Out!\n",
            "Time Out!\n",
            "Time Out!\n",
            "Time Out!\n",
            "Time Out!\n",
            "Time Out!\n"
          ]
        },
        {
          "output_type": "stream",
          "name": "stderr",
          "text": [
            "\rpreprocessing:  16%|█▌        | 37/229 [01:14<06:30,  2.03s/it]"
          ]
        },
        {
          "output_type": "stream",
          "name": "stdout",
          "text": [
            "Time Out!\n",
            "Time Out!\n",
            "Time Out!\n",
            "Time Out!\n",
            "Time Out!\n",
            "Time Out!\n"
          ]
        },
        {
          "output_type": "stream",
          "name": "stderr",
          "text": [
            "\rpreprocessing:  17%|█▋        | 38/229 [01:16<06:27,  2.03s/it]"
          ]
        },
        {
          "output_type": "stream",
          "name": "stdout",
          "text": [
            "Time Out!\n",
            "Time Out!\n",
            "Time Out!\n"
          ]
        },
        {
          "output_type": "stream",
          "name": "stderr",
          "text": [
            "\rpreprocessing:  17%|█▋        | 39/229 [01:18<06:24,  2.02s/it]"
          ]
        },
        {
          "output_type": "stream",
          "name": "stdout",
          "text": [
            "Time Out!\n",
            "Time Out!\n",
            "Time Out!\n",
            "Time Out!\n",
            "Time Out!\n",
            "Time Out!\n",
            "Time Out!\n",
            "Time Out!\n"
          ]
        },
        {
          "output_type": "stream",
          "name": "stderr",
          "text": [
            "\rpreprocessing:  17%|█▋        | 40/229 [01:20<06:22,  2.03s/it]"
          ]
        },
        {
          "output_type": "stream",
          "name": "stdout",
          "text": [
            "Time Out!\n",
            "Time Out!\n",
            "Time Out!\n",
            "Time Out!\n",
            "Time Out!\n",
            "Time Out!\n",
            "Time Out!\n",
            "Time Out!\n",
            "Time Out!\n",
            "Time Out!\n"
          ]
        },
        {
          "output_type": "stream",
          "name": "stderr",
          "text": [
            "\rpreprocessing:  18%|█▊        | 41/229 [01:22<06:21,  2.03s/it]"
          ]
        },
        {
          "output_type": "stream",
          "name": "stdout",
          "text": [
            "Time Out!\n",
            "Time Out!\n",
            "Time Out!\n",
            "Time Out!\n",
            "Time Out!\n",
            "Time Out!\n",
            "Time Out!\n",
            "Time Out!\n",
            "Time Out!\n"
          ]
        },
        {
          "output_type": "stream",
          "name": "stderr",
          "text": [
            "\rpreprocessing:  18%|█▊        | 42/229 [01:24<06:19,  2.03s/it]"
          ]
        },
        {
          "output_type": "stream",
          "name": "stdout",
          "text": [
            "Time Out!\n",
            "Time Out!\n",
            "Time Out!\n",
            "Time Out!\n",
            "Time Out!\n",
            "Time Out!\n",
            "Time Out!\n",
            "Time Out!\n",
            "Time Out!\n"
          ]
        },
        {
          "output_type": "stream",
          "name": "stderr",
          "text": [
            "\rpreprocessing:  19%|█▉        | 43/229 [01:27<06:17,  2.03s/it]"
          ]
        },
        {
          "output_type": "stream",
          "name": "stdout",
          "text": [
            "Time Out!\n",
            "Time Out!\n",
            "Time Out!\n",
            "Time Out!\n",
            "Time Out!\n",
            "Time Out!\n",
            "Time Out!\n",
            "Time Out!\n",
            "Time Out!\n",
            "Time Out!\n",
            "Time Out!\n",
            "Time Out!\n",
            "Time Out!\n",
            "Time Out!\n",
            "Time Out!\n",
            "Time Out!\n",
            "Time Out!\n",
            "Time Out!\n",
            "Time Out!\n",
            "Time Out!\n",
            "Time Out!\n",
            "Time Out!\n",
            "Time Out!\n",
            "Time Out!\n",
            "Time Out!\n",
            "Time Out!\n"
          ]
        },
        {
          "output_type": "stream",
          "name": "stderr",
          "text": [
            "\rpreprocessing:  19%|█▉        | 44/229 [01:29<06:17,  2.04s/it]"
          ]
        },
        {
          "output_type": "stream",
          "name": "stdout",
          "text": [
            "Time Out!\n",
            "Time Out!\n",
            "Time Out!\n",
            "Time Out!\n",
            "Time Out!\n",
            "Time Out!\n"
          ]
        },
        {
          "output_type": "stream",
          "name": "stderr",
          "text": [
            "\rpreprocessing:  20%|█▉        | 45/229 [01:31<06:14,  2.04s/it]"
          ]
        },
        {
          "output_type": "stream",
          "name": "stdout",
          "text": [
            "Time Out!\n",
            "Time Out!\n",
            "Time Out!\n"
          ]
        },
        {
          "output_type": "stream",
          "name": "stderr",
          "text": [
            "\rpreprocessing:  20%|██        | 46/229 [01:33<06:11,  2.03s/it]"
          ]
        },
        {
          "output_type": "stream",
          "name": "stdout",
          "text": [
            "Time Out!\n",
            "Time Out!\n",
            "Time Out!\n",
            "Time Out!\n"
          ]
        },
        {
          "output_type": "stream",
          "name": "stderr",
          "text": [
            "\rpreprocessing:  21%|██        | 47/229 [01:35<06:08,  2.03s/it]"
          ]
        },
        {
          "output_type": "stream",
          "name": "stdout",
          "text": [
            "Time Out!\n",
            "Time Out!\n",
            "Time Out!\n"
          ]
        },
        {
          "output_type": "stream",
          "name": "stderr",
          "text": [
            "\rpreprocessing:  21%|██        | 48/229 [01:37<06:06,  2.02s/it]"
          ]
        },
        {
          "output_type": "stream",
          "name": "stdout",
          "text": [
            "Time Out!\n",
            "Time Out!\n",
            "Time Out!\n",
            "Time Out!\n",
            "Time Out!\n",
            "Time Out!\n",
            "Time Out!\n",
            "Time Out!\n",
            "Time Out!\n",
            "Time Out!\n",
            "Time Out!\n",
            "Time Out!\n",
            "Time Out!\n",
            "Time Out!\n",
            "Time Out!\n"
          ]
        },
        {
          "output_type": "stream",
          "name": "stderr",
          "text": [
            "\rpreprocessing:  21%|██▏       | 49/229 [01:39<06:05,  2.03s/it]"
          ]
        },
        {
          "output_type": "stream",
          "name": "stdout",
          "text": [
            "Time Out!\n",
            "Time Out!\n",
            "Time Out!\n",
            "Time Out!\n",
            "Time Out!\n",
            "Time Out!\n",
            "Time Out!\n",
            "Time Out!\n",
            "Time Out!\n"
          ]
        },
        {
          "output_type": "stream",
          "name": "stderr",
          "text": [
            "\rpreprocessing:  22%|██▏       | 50/229 [01:41<06:03,  2.03s/it]"
          ]
        },
        {
          "output_type": "stream",
          "name": "stdout",
          "text": [
            "Time Out!\n",
            "Time Out!\n",
            "Time Out!\n",
            "Time Out!\n",
            "Time Out!\n",
            "Time Out!\n",
            "Time Out!\n",
            "Time Out!\n",
            "Time Out!\n",
            "Time Out!\n",
            "Time Out!\n"
          ]
        },
        {
          "output_type": "stream",
          "name": "stderr",
          "text": [
            "\rpreprocessing:  22%|██▏       | 51/229 [01:43<06:01,  2.03s/it]"
          ]
        },
        {
          "output_type": "stream",
          "name": "stdout",
          "text": [
            "Time Out!\n",
            "Time Out!\n",
            "Time Out!\n",
            "Time Out!\n"
          ]
        },
        {
          "output_type": "stream",
          "name": "stderr",
          "text": [
            "\rpreprocessing:  23%|██▎       | 52/229 [01:45<05:58,  2.03s/it]"
          ]
        },
        {
          "output_type": "stream",
          "name": "stdout",
          "text": [
            "Time Out!\n",
            "Time Out!\n"
          ]
        },
        {
          "output_type": "stream",
          "name": "stderr",
          "text": [
            "\rpreprocessing:  23%|██▎       | 53/229 [01:47<05:55,  2.02s/it]"
          ]
        },
        {
          "output_type": "stream",
          "name": "stdout",
          "text": [
            "Time Out!\n",
            "Time Out!\n"
          ]
        },
        {
          "output_type": "stream",
          "name": "stderr",
          "text": [
            "\rpreprocessing:  24%|██▎       | 54/229 [01:49<05:53,  2.02s/it]"
          ]
        },
        {
          "output_type": "stream",
          "name": "stdout",
          "text": [
            "Time Out!\n",
            "Time Out!\n",
            "Time Out!\n",
            "Time Out!\n",
            "Time Out!\n",
            "Time Out!\n",
            "Time Out!\n",
            "Time Out!\n",
            "Time Out!\n",
            "Time Out!\n",
            "Time Out!\n",
            "Time Out!\n",
            "Time Out!\n",
            "Time Out!\n",
            "Time Out!\n",
            "Time Out!\n",
            "Time Out!\n",
            "Time Out!\n"
          ]
        },
        {
          "output_type": "stream",
          "name": "stderr",
          "text": [
            "\rpreprocessing:  24%|██▍       | 55/229 [01:51<05:52,  2.03s/it]"
          ]
        },
        {
          "output_type": "stream",
          "name": "stdout",
          "text": [
            "Time Out!\n",
            "Time Out!\n",
            "Time Out!\n",
            "Time Out!\n",
            "Time Out!\n",
            "Time Out!\n",
            "Time Out!\n"
          ]
        },
        {
          "output_type": "stream",
          "name": "stderr",
          "text": [
            "\rpreprocessing:  24%|██▍       | 56/229 [01:53<05:50,  2.03s/it]"
          ]
        },
        {
          "output_type": "stream",
          "name": "stdout",
          "text": [
            "Time Out!\n",
            "Time Out!\n",
            "Time Out!\n",
            "Time Out!\n",
            "Time Out!\n",
            "Time Out!\n",
            "Time Out!\n",
            "Time Out!\n"
          ]
        },
        {
          "output_type": "stream",
          "name": "stderr",
          "text": [
            "\rpreprocessing:  25%|██▍       | 57/229 [01:55<05:49,  2.03s/it]"
          ]
        },
        {
          "output_type": "stream",
          "name": "stdout",
          "text": [
            "Time Out!\n",
            "Time Out!\n",
            "Time Out!\n",
            "Time Out!\n",
            "Time Out!\n",
            "Time Out!\n",
            "Time Out!\n",
            "Time Out!\n",
            "Time Out!\n",
            "Time Out!\n",
            "Time Out!\n"
          ]
        },
        {
          "output_type": "stream",
          "name": "stderr",
          "text": [
            "\rpreprocessing:  25%|██▌       | 58/229 [01:57<05:47,  2.03s/it]"
          ]
        },
        {
          "output_type": "stream",
          "name": "stdout",
          "text": [
            "Time Out!\n",
            "Time Out!\n",
            "Time Out!\n",
            "Time Out!\n",
            "Time Out!\n",
            "Time Out!\n",
            "Time Out!\n",
            "Time Out!\n",
            "Time Out!\n",
            "Time Out!\n",
            "Time Out!\n",
            "Time Out!\n",
            "Time Out!\n",
            "Time Out!\n"
          ]
        },
        {
          "output_type": "stream",
          "name": "stderr",
          "text": [
            "\rpreprocessing:  26%|██▌       | 59/229 [01:59<05:45,  2.03s/it]"
          ]
        },
        {
          "output_type": "stream",
          "name": "stdout",
          "text": [
            "Time Out!\n",
            "Time Out!\n"
          ]
        },
        {
          "output_type": "stream",
          "name": "stderr",
          "text": [
            "\rpreprocessing:  26%|██▌       | 60/229 [02:01<05:42,  2.03s/it]"
          ]
        },
        {
          "output_type": "stream",
          "name": "stdout",
          "text": [
            "Time Out!\n",
            "Time Out!\n",
            "Time Out!\n",
            "Time Out!\n",
            "Time Out!\n",
            "Time Out!\n",
            "Time Out!\n",
            "Time Out!\n",
            "Time Out!\n",
            "Time Out!\n"
          ]
        },
        {
          "output_type": "stream",
          "name": "stderr",
          "text": [
            "\rpreprocessing:  27%|██▋       | 61/229 [02:03<05:40,  2.03s/it]"
          ]
        },
        {
          "output_type": "stream",
          "name": "stdout",
          "text": [
            "Time Out!\n",
            "Time Out!\n",
            "Time Out!\n",
            "Time Out!\n",
            "Time Out!\n",
            "Time Out!\n",
            "Time Out!\n",
            "Time Out!\n"
          ]
        },
        {
          "output_type": "stream",
          "name": "stderr",
          "text": [
            "\rpreprocessing:  27%|██▋       | 62/229 [02:05<05:38,  2.03s/it]"
          ]
        },
        {
          "output_type": "stream",
          "name": "stdout",
          "text": [
            "Time Out!\n",
            "Time Out!\n",
            "Time Out!\n",
            "Time Out!\n",
            "Time Out!\n",
            "Time Out!\n",
            "Time Out!\n",
            "Time Out!\n"
          ]
        },
        {
          "output_type": "stream",
          "name": "stderr",
          "text": [
            "\rpreprocessing:  28%|██▊       | 63/229 [02:07<05:36,  2.03s/it]"
          ]
        },
        {
          "output_type": "stream",
          "name": "stdout",
          "text": [
            "Time Out!\n",
            "Time Out!\n",
            "Time Out!\n",
            "Time Out!\n",
            "Time Out!\n",
            "Time Out!\n",
            "Time Out!\n",
            "Time Out!\n",
            "Time Out!\n",
            "Time Out!\n",
            "Time Out!\n",
            "Time Out!\n"
          ]
        },
        {
          "output_type": "stream",
          "name": "stderr",
          "text": [
            "\rpreprocessing:  28%|██▊       | 64/229 [02:09<05:34,  2.03s/it]"
          ]
        },
        {
          "output_type": "stream",
          "name": "stdout",
          "text": [
            "Time Out!\n",
            "Time Out!\n",
            "Time Out!\n",
            "Time Out!\n",
            "Time Out!\n",
            "Time Out!\n",
            "Time Out!\n",
            "Time Out!\n",
            "Time Out!\n"
          ]
        },
        {
          "output_type": "stream",
          "name": "stderr",
          "text": [
            "\rpreprocessing:  28%|██▊       | 65/229 [02:11<05:32,  2.03s/it]"
          ]
        },
        {
          "output_type": "stream",
          "name": "stdout",
          "text": [
            "Time Out!\n",
            "Time Out!\n",
            "Time Out!\n",
            "Time Out!\n",
            "Time Out!\n",
            "Time Out!\n"
          ]
        },
        {
          "output_type": "stream",
          "name": "stderr",
          "text": [
            "\rpreprocessing:  29%|██▉       | 66/229 [02:13<05:30,  2.03s/it]"
          ]
        },
        {
          "output_type": "stream",
          "name": "stdout",
          "text": [
            "Time Out!\n",
            "Time Out!\n",
            "Time Out!\n"
          ]
        },
        {
          "output_type": "stream",
          "name": "stderr",
          "text": [
            "\rpreprocessing:  29%|██▉       | 67/229 [02:15<05:27,  2.02s/it]"
          ]
        },
        {
          "output_type": "stream",
          "name": "stdout",
          "text": [
            "Time Out!\n",
            "Time Out!\n",
            "Time Out!\n",
            "Time Out!\n",
            "Time Out!\n",
            "Time Out!\n",
            "Time Out!\n"
          ]
        },
        {
          "output_type": "stream",
          "name": "stderr",
          "text": [
            "\rpreprocessing:  30%|██▉       | 68/229 [02:17<05:25,  2.02s/it]"
          ]
        },
        {
          "output_type": "stream",
          "name": "stdout",
          "text": [
            "Time Out!\n",
            "Time Out!\n",
            "Time Out!\n",
            "Time Out!\n",
            "Time Out!\n",
            "Time Out!\n",
            "Time Out!\n",
            "Time Out!\n",
            "Time Out!\n",
            "Time Out!\n",
            "Time Out!\n",
            "Time Out!\n",
            "Time Out!\n",
            "Time Out!\n",
            "Time Out!\n"
          ]
        },
        {
          "output_type": "stream",
          "name": "stderr",
          "text": [
            "\rpreprocessing:  30%|███       | 69/229 [02:19<05:24,  2.03s/it]"
          ]
        },
        {
          "output_type": "stream",
          "name": "stdout",
          "text": [
            "Time Out!\n",
            "Time Out!\n",
            "Time Out!\n",
            "Time Out!\n",
            "Time Out!\n",
            "Time Out!\n",
            "Time Out!\n",
            "Time Out!\n",
            "Time Out!\n",
            "Time Out!\n"
          ]
        },
        {
          "output_type": "stream",
          "name": "stderr",
          "text": [
            "\rpreprocessing:  31%|███       | 70/229 [02:21<05:22,  2.03s/it]"
          ]
        },
        {
          "output_type": "stream",
          "name": "stdout",
          "text": [
            "Time Out!\n",
            "Time Out!\n",
            "Time Out!\n",
            "Time Out!\n",
            "Time Out!\n",
            "Time Out!\n",
            "Time Out!\n",
            "Time Out!\n",
            "Time Out!\n",
            "Time Out!\n",
            "Time Out!\n",
            "Time Out!\n"
          ]
        },
        {
          "output_type": "stream",
          "name": "stderr",
          "text": [
            "\rpreprocessing:  31%|███       | 71/229 [02:23<05:20,  2.03s/it]"
          ]
        },
        {
          "output_type": "stream",
          "name": "stdout",
          "text": [
            "Time Out!\n",
            "Time Out!\n",
            "Time Out!\n",
            "Time Out!\n",
            "Time Out!\n",
            "Time Out!\n",
            "Time Out!\n",
            "Time Out!\n",
            "Time Out!\n",
            "Time Out!\n",
            "Time Out!\n",
            "Time Out!\n",
            "Time Out!\n"
          ]
        },
        {
          "output_type": "stream",
          "name": "stderr",
          "text": [
            "\rpreprocessing:  31%|███▏      | 72/229 [02:25<05:19,  2.03s/it]"
          ]
        },
        {
          "output_type": "stream",
          "name": "stdout",
          "text": [
            "Time Out!\n",
            "Time Out!\n",
            "Time Out!\n",
            "Time Out!\n",
            "Time Out!\n",
            "Time Out!\n",
            "Time Out!\n",
            "Time Out!\n",
            "Time Out!\n"
          ]
        },
        {
          "output_type": "stream",
          "name": "stderr",
          "text": [
            "\rpreprocessing:  32%|███▏      | 73/229 [02:27<05:17,  2.03s/it]"
          ]
        },
        {
          "output_type": "stream",
          "name": "stdout",
          "text": [
            "Time Out!\n",
            "Time Out!\n",
            "Time Out!\n",
            "Time Out!\n"
          ]
        },
        {
          "output_type": "stream",
          "name": "stderr",
          "text": [
            "\rpreprocessing:  32%|███▏      | 74/229 [02:29<05:14,  2.03s/it]"
          ]
        },
        {
          "output_type": "stream",
          "name": "stdout",
          "text": [
            "Time Out!\n",
            "Time Out!\n",
            "Time Out!\n"
          ]
        },
        {
          "output_type": "stream",
          "name": "stderr",
          "text": [
            "\rpreprocessing:  33%|███▎      | 75/229 [02:31<05:11,  2.02s/it]"
          ]
        },
        {
          "output_type": "stream",
          "name": "stdout",
          "text": [
            "Time Out!\n",
            "Time Out!\n",
            "Time Out!\n"
          ]
        },
        {
          "output_type": "stream",
          "name": "stderr",
          "text": [
            "\rpreprocessing:  33%|███▎      | 76/229 [02:33<05:09,  2.02s/it]"
          ]
        },
        {
          "output_type": "stream",
          "name": "stdout",
          "text": [
            "Time Out!\n",
            "Time Out!\n",
            "Time Out!\n",
            "Time Out!\n",
            "Time Out!\n",
            "Time Out!\n",
            "Time Out!\n",
            "Time Out!\n",
            "Time Out!\n",
            "Time Out!\n",
            "Time Out!\n",
            "Time Out!\n",
            "Time Out!\n"
          ]
        },
        {
          "output_type": "stream",
          "name": "stderr",
          "text": [
            "\rpreprocessing:  34%|███▎      | 77/229 [02:35<05:08,  2.03s/it]"
          ]
        },
        {
          "output_type": "stream",
          "name": "stdout",
          "text": [
            "Time Out!\n",
            "Time Out!\n",
            "Time Out!\n",
            "Time Out!\n",
            "Time Out!\n",
            "Time Out!\n",
            "Time Out!\n",
            "Time Out!\n"
          ]
        },
        {
          "output_type": "stream",
          "name": "stderr",
          "text": [
            "\rpreprocessing:  34%|███▍      | 78/229 [02:37<05:06,  2.03s/it]"
          ]
        },
        {
          "output_type": "stream",
          "name": "stdout",
          "text": [
            "Time Out!\n",
            "Time Out!\n",
            "Time Out!\n",
            "Time Out!\n",
            "Time Out!\n",
            "Time Out!\n"
          ]
        },
        {
          "output_type": "stream",
          "name": "stderr",
          "text": [
            "\rpreprocessing:  34%|███▍      | 79/229 [02:40<05:03,  2.03s/it]"
          ]
        },
        {
          "output_type": "stream",
          "name": "stdout",
          "text": [
            "Time Out!\n",
            "Time Out!\n",
            "Time Out!\n"
          ]
        },
        {
          "output_type": "stream",
          "name": "stderr",
          "text": [
            "\rpreprocessing:  35%|███▍      | 80/229 [02:42<05:01,  2.02s/it]"
          ]
        },
        {
          "output_type": "stream",
          "name": "stdout",
          "text": [
            "Time Out!\n",
            "Time Out!\n",
            "Time Out!\n"
          ]
        },
        {
          "output_type": "stream",
          "name": "stderr",
          "text": [
            "\rpreprocessing:  35%|███▌      | 81/229 [02:44<04:58,  2.02s/it]"
          ]
        },
        {
          "output_type": "stream",
          "name": "stdout",
          "text": [
            "Time Out!\n",
            "Time Out!\n",
            "Time Out!\n",
            "Time Out!\n",
            "Time Out!\n",
            "Time Out!\n",
            "Time Out!\n"
          ]
        },
        {
          "output_type": "stream",
          "name": "stderr",
          "text": [
            "\rpreprocessing:  36%|███▌      | 82/229 [02:46<04:57,  2.02s/it]"
          ]
        },
        {
          "output_type": "stream",
          "name": "stdout",
          "text": [
            "Time Out!\n",
            "Time Out!\n",
            "Time Out!\n",
            "Time Out!\n",
            "Time Out!\n",
            "Time Out!\n",
            "Time Out!\n",
            "Time Out!\n"
          ]
        },
        {
          "output_type": "stream",
          "name": "stderr",
          "text": [
            "\rpreprocessing:  36%|███▌      | 83/229 [02:48<04:55,  2.02s/it]"
          ]
        },
        {
          "output_type": "stream",
          "name": "stdout",
          "text": [
            "Time Out!\n",
            "Time Out!\n",
            "Time Out!\n",
            "Time Out!\n",
            "Time Out!\n",
            "Time Out!\n",
            "Time Out!\n",
            "Time Out!\n",
            "Time Out!\n",
            "Time Out!\n",
            "Time Out!\n",
            "Time Out!\n",
            "Time Out!\n",
            "Time Out!\n",
            "Time Out!\n",
            "Time Out!\n"
          ]
        },
        {
          "output_type": "stream",
          "name": "stderr",
          "text": [
            "\rpreprocessing:  37%|███▋      | 84/229 [02:50<04:54,  2.03s/it]"
          ]
        },
        {
          "output_type": "stream",
          "name": "stdout",
          "text": [
            "Time Out!\n",
            "Time Out!\n",
            "Time Out!\n",
            "Time Out!\n",
            "Time Out!\n",
            "Time Out!\n",
            "Time Out!\n",
            "Time Out!\n",
            "Time Out!\n",
            "Time Out!\n",
            "Time Out!\n",
            "Time Out!\n",
            "Time Out!\n",
            "Time Out!\n",
            "Time Out!\n",
            "Time Out!\n"
          ]
        },
        {
          "output_type": "stream",
          "name": "stderr",
          "text": [
            "\rpreprocessing:  37%|███▋      | 85/229 [02:52<04:53,  2.04s/it]"
          ]
        },
        {
          "output_type": "stream",
          "name": "stdout",
          "text": [
            "Time Out!\n",
            "Time Out!\n",
            "Time Out!\n",
            "Time Out!\n",
            "Time Out!\n",
            "Time Out!\n",
            "Time Out!\n",
            "Time Out!\n"
          ]
        },
        {
          "output_type": "stream",
          "name": "stderr",
          "text": [
            "\rpreprocessing:  38%|███▊      | 86/229 [02:54<04:51,  2.04s/it]"
          ]
        },
        {
          "output_type": "stream",
          "name": "stdout",
          "text": [
            "Time Out!\n",
            "Time Out!\n",
            "Time Out!\n",
            "Time Out!\n",
            "Time Out!\n"
          ]
        },
        {
          "output_type": "stream",
          "name": "stderr",
          "text": [
            "\rpreprocessing:  38%|███▊      | 87/229 [02:56<04:48,  2.03s/it]"
          ]
        },
        {
          "output_type": "stream",
          "name": "stdout",
          "text": [
            "Time Out!\n",
            "Time Out!\n",
            "Time Out!\n",
            "Time Out!\n",
            "Time Out!\n",
            "Time Out!\n",
            "Time Out!\n",
            "Time Out!\n",
            "Time Out!\n",
            "Time Out!\n"
          ]
        },
        {
          "output_type": "stream",
          "name": "stderr",
          "text": [
            "\rpreprocessing:  38%|███▊      | 88/229 [02:58<04:46,  2.03s/it]"
          ]
        },
        {
          "output_type": "stream",
          "name": "stdout",
          "text": [
            "Time Out!\n",
            "Time Out!\n",
            "Time Out!\n",
            "Time Out!\n",
            "Time Out!\n"
          ]
        },
        {
          "output_type": "stream",
          "name": "stderr",
          "text": [
            "\rpreprocessing:  39%|███▉      | 89/229 [03:00<04:44,  2.03s/it]"
          ]
        },
        {
          "output_type": "stream",
          "name": "stdout",
          "text": [
            "Time Out!\n",
            "Time Out!\n",
            "Time Out!\n",
            "Time Out!\n",
            "Time Out!\n",
            "Time Out!\n",
            "Time Out!\n",
            "Time Out!\n",
            "Time Out!\n",
            "Time Out!\n"
          ]
        },
        {
          "output_type": "stream",
          "name": "stderr",
          "text": [
            "\rpreprocessing:  39%|███▉      | 90/229 [03:02<04:42,  2.03s/it]"
          ]
        },
        {
          "output_type": "stream",
          "name": "stdout",
          "text": [
            "Time Out!\n",
            "Time Out!\n",
            "Time Out!\n",
            "Time Out!\n",
            "Time Out!\n",
            "Time Out!\n",
            "Time Out!\n",
            "Time Out!\n",
            "Time Out!\n",
            "Time Out!\n",
            "Time Out!\n",
            "Time Out!\n",
            "Time Out!\n",
            "Time Out!\n",
            "Time Out!\n",
            "Time Out!\n"
          ]
        },
        {
          "output_type": "stream",
          "name": "stderr",
          "text": [
            "\rpreprocessing:  40%|███▉      | 91/229 [03:04<04:41,  2.04s/it]"
          ]
        },
        {
          "output_type": "stream",
          "name": "stdout",
          "text": [
            "Time Out!\n",
            "Time Out!\n",
            "Time Out!\n",
            "Time Out!\n",
            "Time Out!\n",
            "Time Out!\n",
            "Time Out!\n",
            "Time Out!\n",
            "Time Out!\n"
          ]
        },
        {
          "output_type": "stream",
          "name": "stderr",
          "text": [
            "\rpreprocessing:  40%|████      | 92/229 [03:06<04:38,  2.04s/it]"
          ]
        },
        {
          "output_type": "stream",
          "name": "stdout",
          "text": [
            "Time Out!\n",
            "Time Out!\n",
            "Time Out!\n",
            "Time Out!\n",
            "Time Out!\n",
            "Time Out!\n",
            "Time Out!\n"
          ]
        },
        {
          "output_type": "stream",
          "name": "stderr",
          "text": [
            "\rpreprocessing:  41%|████      | 93/229 [03:08<04:36,  2.03s/it]"
          ]
        },
        {
          "output_type": "stream",
          "name": "stdout",
          "text": [
            "Time Out!\n",
            "Time Out!\n",
            "Time Out!\n",
            "Time Out!\n",
            "Time Out!\n",
            "Time Out!\n",
            "Time Out!\n",
            "Time Out!\n",
            "Time Out!\n",
            "Time Out!\n",
            "Time Out!\n",
            "Time Out!\n"
          ]
        },
        {
          "output_type": "stream",
          "name": "stderr",
          "text": [
            "\rpreprocessing:  41%|████      | 94/229 [03:10<04:34,  2.04s/it]"
          ]
        },
        {
          "output_type": "stream",
          "name": "stdout",
          "text": [
            "Time Out!\n",
            "Time Out!\n",
            "Time Out!\n",
            "Time Out!\n",
            "Time Out!\n",
            "Time Out!\n",
            "Time Out!\n",
            "Time Out!\n",
            "Time Out!\n",
            "Time Out!\n",
            "Time Out!\n",
            "Time Out!\n",
            "Time Out!\n"
          ]
        },
        {
          "output_type": "stream",
          "name": "stderr",
          "text": [
            "\rpreprocessing:  41%|████▏     | 95/229 [03:12<04:33,  2.04s/it]"
          ]
        },
        {
          "output_type": "stream",
          "name": "stdout",
          "text": [
            "Time Out!\n",
            "Time Out!\n",
            "Time Out!\n",
            "Time Out!\n",
            "Time Out!\n",
            "Time Out!\n",
            "Time Out!\n",
            "Time Out!\n"
          ]
        },
        {
          "output_type": "stream",
          "name": "stderr",
          "text": [
            "\rpreprocessing:  42%|████▏     | 96/229 [03:14<04:30,  2.04s/it]"
          ]
        },
        {
          "output_type": "stream",
          "name": "stdout",
          "text": [
            "Time Out!\n",
            "Time Out!\n",
            "Time Out!\n",
            "Time Out!\n",
            "Time Out!\n",
            "Time Out!\n",
            "Time Out!\n",
            "Time Out!\n",
            "Time Out!\n",
            "Time Out!\n",
            "Time Out!\n",
            "Time Out!\n",
            "Time Out!\n"
          ]
        },
        {
          "output_type": "stream",
          "name": "stderr",
          "text": [
            "\rpreprocessing:  42%|████▏     | 97/229 [03:16<04:28,  2.04s/it]"
          ]
        },
        {
          "output_type": "stream",
          "name": "stdout",
          "text": [
            "Time Out!\n",
            "Time Out!\n",
            "Time Out!\n",
            "Time Out!\n",
            "Time Out!\n",
            "Time Out!\n",
            "Time Out!\n",
            "Time Out!\n",
            "Time Out!\n",
            "Time Out!\n"
          ]
        },
        {
          "output_type": "stream",
          "name": "stderr",
          "text": [
            "\rpreprocessing:  43%|████▎     | 98/229 [03:18<04:26,  2.04s/it]"
          ]
        },
        {
          "output_type": "stream",
          "name": "stdout",
          "text": [
            "Time Out!\n",
            "Time Out!\n",
            "Time Out!\n",
            "Time Out!\n",
            "Time Out!\n",
            "Time Out!\n",
            "Time Out!\n",
            "Time Out!\n",
            "Time Out!\n",
            "Time Out!\n",
            "Time Out!\n",
            "Time Out!\n",
            "Time Out!\n",
            "Time Out!\n"
          ]
        },
        {
          "output_type": "stream",
          "name": "stderr",
          "text": [
            "\rpreprocessing:  43%|████▎     | 99/229 [03:20<04:25,  2.04s/it]"
          ]
        },
        {
          "output_type": "stream",
          "name": "stdout",
          "text": [
            "Time Out!\n",
            "Time Out!\n",
            "Time Out!\n",
            "Time Out!\n"
          ]
        },
        {
          "output_type": "stream",
          "name": "stderr",
          "text": [
            "\rpreprocessing:  44%|████▎     | 100/229 [03:22<04:22,  2.03s/it]"
          ]
        },
        {
          "output_type": "stream",
          "name": "stdout",
          "text": [
            "Time Out!\n",
            "Time Out!\n",
            "Time Out!\n",
            "Time Out!\n"
          ]
        },
        {
          "output_type": "stream",
          "name": "stderr",
          "text": [
            "\rpreprocessing:  44%|████▍     | 101/229 [03:24<04:19,  2.03s/it]"
          ]
        },
        {
          "output_type": "stream",
          "name": "stdout",
          "text": [
            "Time Out!\n",
            "Time Out!\n",
            "Time Out!\n",
            "Time Out!\n",
            "Time Out!\n",
            "Time Out!\n",
            "Time Out!\n",
            "Time Out!\n",
            "Time Out!\n"
          ]
        },
        {
          "output_type": "stream",
          "name": "stderr",
          "text": [
            "\rpreprocessing:  45%|████▍     | 102/229 [03:26<04:17,  2.03s/it]"
          ]
        },
        {
          "output_type": "stream",
          "name": "stdout",
          "text": [
            "Time Out!\n",
            "Time Out!\n",
            "Time Out!\n",
            "Time Out!\n",
            "Time Out!\n",
            "Time Out!\n",
            "Time Out!\n",
            "Time Out!\n",
            "Time Out!\n",
            "Time Out!\n",
            "Time Out!\n",
            "Time Out!\n"
          ]
        },
        {
          "output_type": "stream",
          "name": "stderr",
          "text": [
            "\rpreprocessing:  45%|████▍     | 103/229 [03:28<04:15,  2.03s/it]"
          ]
        },
        {
          "output_type": "stream",
          "name": "stdout",
          "text": [
            "Time Out!\n",
            "Time Out!\n",
            "Time Out!\n",
            "Time Out!\n",
            "Time Out!\n",
            "Time Out!\n",
            "Time Out!\n",
            "Time Out!\n",
            "Time Out!\n",
            "Time Out!\n",
            "Time Out!\n",
            "Time Out!\n",
            "Time Out!\n",
            "Time Out!\n"
          ]
        },
        {
          "output_type": "stream",
          "name": "stderr",
          "text": [
            "\rpreprocessing:  45%|████▌     | 104/229 [03:30<04:13,  2.03s/it]"
          ]
        },
        {
          "output_type": "stream",
          "name": "stdout",
          "text": [
            "Time Out!\n",
            "Time Out!\n",
            "Time Out!\n",
            "Time Out!\n",
            "Time Out!\n",
            "Time Out!\n",
            "Time Out!\n",
            "Time Out!\n",
            "Time Out!\n",
            "Time Out!\n",
            "Time Out!\n",
            "Time Out!\n",
            "Time Out!\n",
            "Time Out!\n",
            "Time Out!\n"
          ]
        },
        {
          "output_type": "stream",
          "name": "stderr",
          "text": [
            "\rpreprocessing:  46%|████▌     | 105/229 [03:32<04:12,  2.03s/it]"
          ]
        },
        {
          "output_type": "stream",
          "name": "stdout",
          "text": [
            "Time Out!\n",
            "Time Out!\n",
            "Time Out!\n",
            "Time Out!\n",
            "Time Out!\n",
            "Time Out!\n",
            "Time Out!\n"
          ]
        },
        {
          "output_type": "stream",
          "name": "stderr",
          "text": [
            "preprocessing:  47%|████▋     | 107/229 [03:36<04:06,  2.02s/it]"
          ]
        },
        {
          "output_type": "stream",
          "name": "stdout",
          "text": [
            "Time Out!\n",
            "Time Out!\n",
            "Time Out!\n",
            "Time Out!\n",
            "Time Out!\n",
            "Time Out!\n",
            "Time Out!\n",
            "Time Out!\n",
            "Time Out!\n",
            "Time Out!\n",
            "Time Out!\n",
            "Time Out!\n"
          ]
        },
        {
          "output_type": "stream",
          "name": "stderr",
          "text": [
            "\rpreprocessing:  47%|████▋     | 108/229 [03:38<04:05,  2.03s/it]"
          ]
        },
        {
          "output_type": "stream",
          "name": "stdout",
          "text": [
            "Time Out!\n",
            "Time Out!\n",
            "Time Out!\n",
            "Time Out!\n",
            "Time Out!\n",
            "Time Out!\n",
            "Time Out!\n",
            "Time Out!\n",
            "Time Out!\n"
          ]
        },
        {
          "output_type": "stream",
          "name": "stderr",
          "text": [
            "\rpreprocessing:  48%|████▊     | 109/229 [03:40<04:03,  2.03s/it]"
          ]
        },
        {
          "output_type": "stream",
          "name": "stdout",
          "text": [
            "Time Out!\n",
            "Time Out!\n",
            "Time Out!\n",
            "Time Out!\n",
            "Time Out!\n",
            "Time Out!\n",
            "Time Out!\n",
            "Time Out!\n"
          ]
        },
        {
          "output_type": "stream",
          "name": "stderr",
          "text": [
            "\rpreprocessing:  48%|████▊     | 110/229 [03:42<04:01,  2.03s/it]"
          ]
        },
        {
          "output_type": "stream",
          "name": "stdout",
          "text": [
            "Time Out!\n",
            "Time Out!\n",
            "Time Out!\n",
            "Time Out!\n",
            "Time Out!\n",
            "Time Out!\n",
            "Time Out!\n",
            "Time Out!\n"
          ]
        },
        {
          "output_type": "stream",
          "name": "stderr",
          "text": [
            "\rpreprocessing:  48%|████▊     | 111/229 [03:44<03:59,  2.03s/it]"
          ]
        },
        {
          "output_type": "stream",
          "name": "stdout",
          "text": [
            "Time Out!\n",
            "Time Out!\n",
            "Time Out!\n",
            "Time Out!\n",
            "Time Out!\n",
            "Time Out!\n",
            "Time Out!\n",
            "Time Out!\n",
            "Time Out!\n",
            "Time Out!\n",
            "Time Out!\n"
          ]
        },
        {
          "output_type": "stream",
          "name": "stderr",
          "text": [
            "\rpreprocessing:  49%|████▉     | 112/229 [03:47<03:57,  2.03s/it]"
          ]
        },
        {
          "output_type": "stream",
          "name": "stdout",
          "text": [
            "Time Out!\n",
            "Time Out!\n",
            "Time Out!\n",
            "Time Out!\n",
            "Time Out!\n",
            "Time Out!\n",
            "Time Out!\n",
            "Time Out!\n",
            "Time Out!\n",
            "Time Out!\n",
            "Time Out!\n",
            "Time Out!\n",
            "Time Out!\n",
            "Time Out!\n",
            "Time Out!\n",
            "Time Out!\n",
            "Time Out!\n"
          ]
        },
        {
          "output_type": "stream",
          "name": "stderr",
          "text": [
            "\rpreprocessing:  49%|████▉     | 113/229 [03:49<03:55,  2.03s/it]"
          ]
        },
        {
          "output_type": "stream",
          "name": "stdout",
          "text": [
            "Time Out!\n",
            "Time Out!\n",
            "Time Out!\n",
            "Time Out!\n",
            "Time Out!\n",
            "Time Out!\n",
            "Time Out!\n"
          ]
        },
        {
          "output_type": "stream",
          "name": "stderr",
          "text": [
            "\rpreprocessing:  50%|████▉     | 114/229 [03:51<03:53,  2.03s/it]"
          ]
        },
        {
          "output_type": "stream",
          "name": "stdout",
          "text": [
            "Time Out!\n",
            "Time Out!\n",
            "Time Out!\n",
            "Time Out!\n",
            "Time Out!\n",
            "Time Out!\n"
          ]
        },
        {
          "output_type": "stream",
          "name": "stderr",
          "text": [
            "\rpreprocessing:  50%|█████     | 115/229 [03:53<03:51,  2.03s/it]"
          ]
        },
        {
          "output_type": "stream",
          "name": "stdout",
          "text": [
            "Time Out!\n",
            "Time Out!\n",
            "Time Out!\n",
            "Time Out!\n",
            "Time Out!\n",
            "Time Out!\n",
            "Time Out!\n",
            "Time Out!\n",
            "Time Out!\n",
            "Time Out!\n",
            "Time Out!\n",
            "Time Out!\n",
            "Time Out!\n",
            "Time Out!\n",
            "Time Out!\n",
            "Time Out!\n",
            "Time Out!\n",
            "Time Out!\n",
            "Time Out!\n",
            "Time Out!\n",
            "Time Out!\n",
            "Time Out!\n"
          ]
        },
        {
          "output_type": "stream",
          "name": "stderr",
          "text": [
            "\rpreprocessing:  51%|█████     | 116/229 [03:55<03:50,  2.04s/it]"
          ]
        },
        {
          "output_type": "stream",
          "name": "stdout",
          "text": [
            "Time Out!\n",
            "Time Out!\n",
            "Time Out!\n",
            "Time Out!\n",
            "Time Out!\n",
            "Time Out!\n",
            "Time Out!\n",
            "Time Out!\n",
            "Time Out!\n",
            "Time Out!\n"
          ]
        },
        {
          "output_type": "stream",
          "name": "stderr",
          "text": [
            "\rpreprocessing:  51%|█████     | 117/229 [03:57<03:48,  2.04s/it]"
          ]
        },
        {
          "output_type": "stream",
          "name": "stdout",
          "text": [
            "Time Out!\n",
            "Time Out!\n",
            "Time Out!\n",
            "Time Out!\n",
            "Time Out!\n",
            "Time Out!\n",
            "Time Out!\n",
            "Time Out!\n",
            "Time Out!\n",
            "Time Out!\n",
            "Time Out!\n",
            "Time Out!\n",
            "Time Out!\n",
            "Time Out!\n",
            "Time Out!\n",
            "Time Out!\n",
            "Time Out!\n",
            "Time Out!\n",
            "Time Out!\n",
            "Time Out!\n",
            "Time Out!\n",
            "Time Out!\n"
          ]
        },
        {
          "output_type": "stream",
          "name": "stderr",
          "text": [
            "\rpreprocessing:  52%|█████▏    | 118/229 [03:59<03:46,  2.04s/it]"
          ]
        },
        {
          "output_type": "stream",
          "name": "stdout",
          "text": [
            "Time Out!\n",
            "Time Out!\n",
            "Time Out!\n",
            "Time Out!\n",
            "Time Out!\n",
            "Time Out!\n",
            "Time Out!\n",
            "Time Out!\n",
            "Time Out!\n",
            "Time Out!\n",
            "Time Out!\n",
            "Time Out!\n",
            "Time Out!\n",
            "Time Out!\n"
          ]
        },
        {
          "output_type": "stream",
          "name": "stderr",
          "text": [
            "\rpreprocessing:  52%|█████▏    | 119/229 [04:01<03:44,  2.04s/it]"
          ]
        },
        {
          "output_type": "stream",
          "name": "stdout",
          "text": [
            "Time Out!\n",
            "Time Out!\n",
            "Time Out!\n",
            "Time Out!\n",
            "Time Out!\n",
            "Time Out!\n",
            "Time Out!\n",
            "Time Out!\n"
          ]
        },
        {
          "output_type": "stream",
          "name": "stderr",
          "text": [
            "\rpreprocessing:  52%|█████▏    | 120/229 [04:03<03:42,  2.04s/it]"
          ]
        },
        {
          "output_type": "stream",
          "name": "stdout",
          "text": [
            "Time Out!\n",
            "Time Out!\n",
            "Time Out!\n"
          ]
        },
        {
          "output_type": "stream",
          "name": "stderr",
          "text": [
            "\rpreprocessing:  53%|█████▎    | 121/229 [04:05<03:39,  2.03s/it]"
          ]
        },
        {
          "output_type": "stream",
          "name": "stdout",
          "text": [
            "Time Out!\n",
            "Time Out!\n",
            "Time Out!\n",
            "Time Out!\n",
            "Time Out!\n"
          ]
        },
        {
          "output_type": "stream",
          "name": "stderr",
          "text": [
            "\rpreprocessing:  53%|█████▎    | 122/229 [04:07<03:37,  2.03s/it]"
          ]
        },
        {
          "output_type": "stream",
          "name": "stdout",
          "text": [
            "Time Out!\n",
            "Time Out!\n",
            "Time Out!\n",
            "Time Out!\n",
            "Time Out!\n",
            "Time Out!\n",
            "Time Out!\n",
            "Time Out!\n",
            "Time Out!\n",
            "Time Out!\n",
            "Time Out!\n",
            "Time Out!\n",
            "Time Out!\n"
          ]
        },
        {
          "output_type": "stream",
          "name": "stderr",
          "text": [
            "\rpreprocessing:  54%|█████▎    | 123/229 [04:09<03:35,  2.03s/it]"
          ]
        },
        {
          "output_type": "stream",
          "name": "stdout",
          "text": [
            "Time Out!\n",
            "Time Out!\n",
            "Time Out!\n",
            "Time Out!\n",
            "Time Out!\n",
            "Time Out!\n",
            "Time Out!\n",
            "Time Out!\n",
            "Time Out!\n",
            "Time Out!\n",
            "Time Out!\n",
            "Time Out!\n",
            "Time Out!\n"
          ]
        },
        {
          "output_type": "stream",
          "name": "stderr",
          "text": [
            "\rpreprocessing:  54%|█████▍    | 124/229 [04:11<03:33,  2.03s/it]"
          ]
        },
        {
          "output_type": "stream",
          "name": "stdout",
          "text": [
            "Time Out!\n",
            "Time Out!\n",
            "Time Out!\n",
            "Time Out!\n",
            "Time Out!\n",
            "Time Out!\n",
            "Time Out!\n",
            "Time Out!\n",
            "Time Out!\n",
            "Time Out!\n",
            "Time Out!\n",
            "Time Out!\n",
            "Time Out!\n"
          ]
        },
        {
          "output_type": "stream",
          "name": "stderr",
          "text": [
            "\rpreprocessing:  55%|█████▍    | 125/229 [04:13<03:31,  2.03s/it]"
          ]
        },
        {
          "output_type": "stream",
          "name": "stdout",
          "text": [
            "Time Out!\n",
            "Time Out!\n",
            "Time Out!\n",
            "Time Out!\n",
            "Time Out!\n",
            "Time Out!\n",
            "Time Out!\n",
            "Time Out!\n",
            "Time Out!\n",
            "Time Out!\n",
            "Time Out!\n",
            "Time Out!\n",
            "Time Out!\n",
            "Time Out!\n",
            "Time Out!\n"
          ]
        },
        {
          "output_type": "stream",
          "name": "stderr",
          "text": [
            "\rpreprocessing:  55%|█████▌    | 126/229 [04:15<03:29,  2.04s/it]"
          ]
        },
        {
          "output_type": "stream",
          "name": "stdout",
          "text": [
            "Time Out!\n",
            "Time Out!\n",
            "Time Out!\n"
          ]
        },
        {
          "output_type": "stream",
          "name": "stderr",
          "text": [
            "preprocessing:  56%|█████▌    | 128/229 [04:19<03:24,  2.02s/it]"
          ]
        },
        {
          "output_type": "stream",
          "name": "stdout",
          "text": [
            "Time Out!\n",
            "Time Out!\n",
            "Time Out!\n",
            "Time Out!\n",
            "Time Out!\n",
            "Time Out!\n",
            "Time Out!\n",
            "Time Out!\n",
            "Time Out!\n",
            "Time Out!\n"
          ]
        },
        {
          "output_type": "stream",
          "name": "stderr",
          "text": [
            "\rpreprocessing:  56%|█████▋    | 129/229 [04:21<03:22,  2.02s/it]"
          ]
        },
        {
          "output_type": "stream",
          "name": "stdout",
          "text": [
            "Time Out!\n",
            "Time Out!\n",
            "Time Out!\n",
            "Time Out!\n",
            "Time Out!\n",
            "Time Out!\n",
            "Time Out!\n"
          ]
        },
        {
          "output_type": "stream",
          "name": "stderr",
          "text": [
            "\rpreprocessing:  57%|█████▋    | 130/229 [04:23<03:20,  2.02s/it]"
          ]
        },
        {
          "output_type": "stream",
          "name": "stdout",
          "text": [
            "Time Out!\n",
            "Time Out!\n",
            "Time Out!\n",
            "Time Out!\n",
            "Time Out!\n",
            "Time Out!\n",
            "Time Out!\n",
            "Time Out!\n",
            "Time Out!\n",
            "Time Out!\n",
            "Time Out!\n",
            "Time Out!\n",
            "Time Out!\n",
            "Time Out!\n",
            "Time Out!\n",
            "Time Out!\n",
            "Time Out!\n",
            "Time Out!\n",
            "Time Out!\n",
            "Time Out!\n",
            "Time Out!\n",
            "Time Out!\n",
            "Time Out!\n",
            "Time Out!\n",
            "Time Out!\n",
            "Time Out!\n",
            "Time Out!\n",
            "Time Out!\n"
          ]
        },
        {
          "output_type": "stream",
          "name": "stderr",
          "text": [
            "\rpreprocessing:  57%|█████▋    | 131/229 [04:25<03:19,  2.04s/it]"
          ]
        },
        {
          "output_type": "stream",
          "name": "stdout",
          "text": [
            "Time Out!\n",
            "Time Out!\n",
            "Time Out!\n",
            "Time Out!\n",
            "Time Out!\n",
            "Time Out!\n",
            "Time Out!\n",
            "Time Out!\n",
            "Time Out!\n",
            "Time Out!\n",
            "Time Out!\n",
            "Time Out!\n",
            "Time Out!\n"
          ]
        },
        {
          "output_type": "stream",
          "name": "stderr",
          "text": [
            "\rpreprocessing:  58%|█████▊    | 132/229 [04:27<03:17,  2.04s/it]"
          ]
        },
        {
          "output_type": "stream",
          "name": "stdout",
          "text": [
            "Time Out!\n",
            "Time Out!\n",
            "Time Out!\n",
            "Time Out!\n",
            "Time Out!\n",
            "Time Out!\n",
            "Time Out!\n",
            "Time Out!\n",
            "Time Out!\n",
            "Time Out!\n"
          ]
        },
        {
          "output_type": "stream",
          "name": "stderr",
          "text": [
            "\rpreprocessing:  58%|█████▊    | 133/229 [04:29<03:15,  2.04s/it]"
          ]
        },
        {
          "output_type": "stream",
          "name": "stdout",
          "text": [
            "Time Out!\n",
            "Time Out!\n",
            "Time Out!\n",
            "Time Out!\n",
            "Time Out!\n",
            "Time Out!\n"
          ]
        },
        {
          "output_type": "stream",
          "name": "stderr",
          "text": [
            "\rpreprocessing:  59%|█████▊    | 134/229 [04:31<03:13,  2.03s/it]"
          ]
        },
        {
          "output_type": "stream",
          "name": "stdout",
          "text": [
            "Time Out!\n",
            "Time Out!\n",
            "Time Out!\n",
            "Time Out!\n",
            "Time Out!\n",
            "Time Out!\n"
          ]
        },
        {
          "output_type": "stream",
          "name": "stderr",
          "text": [
            "\rpreprocessing:  59%|█████▉    | 135/229 [04:33<03:10,  2.03s/it]"
          ]
        },
        {
          "output_type": "stream",
          "name": "stdout",
          "text": [
            "Time Out!\n",
            "Time Out!\n",
            "Time Out!\n",
            "Time Out!\n",
            "Time Out!\n",
            "Time Out!\n"
          ]
        },
        {
          "output_type": "stream",
          "name": "stderr",
          "text": [
            "\rpreprocessing:  59%|█████▉    | 136/229 [04:35<03:08,  2.03s/it]"
          ]
        },
        {
          "output_type": "stream",
          "name": "stdout",
          "text": [
            "Time Out!\n",
            "Time Out!\n",
            "Time Out!\n",
            "Time Out!\n",
            "Time Out!\n",
            "Time Out!\n",
            "Time Out!\n",
            "Time Out!\n",
            "Time Out!\n"
          ]
        },
        {
          "output_type": "stream",
          "name": "stderr",
          "text": [
            "\rpreprocessing:  60%|█████▉    | 137/229 [04:37<03:06,  2.03s/it]"
          ]
        },
        {
          "output_type": "stream",
          "name": "stdout",
          "text": [
            "Time Out!\n",
            "Time Out!\n",
            "Time Out!\n",
            "Time Out!\n",
            "Time Out!\n",
            "Time Out!\n",
            "Time Out!\n",
            "Time Out!\n",
            "Time Out!\n",
            "Time Out!\n",
            "Time Out!\n",
            "Time Out!\n",
            "Time Out!\n",
            "Time Out!\n",
            "Time Out!\n",
            "Time Out!\n",
            "Time Out!\n",
            "Time Out!\n",
            "Time Out!\n",
            "Time Out!\n",
            "Time Out!\n",
            "Time Out!\n"
          ]
        },
        {
          "output_type": "stream",
          "name": "stderr",
          "text": [
            "\rpreprocessing:  60%|██████    | 138/229 [04:39<03:05,  2.04s/it]"
          ]
        },
        {
          "output_type": "stream",
          "name": "stdout",
          "text": [
            "Time Out!\n",
            "Time Out!\n",
            "Time Out!\n",
            "Time Out!\n",
            "Time Out!\n",
            "Time Out!\n",
            "Time Out!\n",
            "Time Out!\n",
            "Time Out!\n",
            "Time Out!\n"
          ]
        },
        {
          "output_type": "stream",
          "name": "stderr",
          "text": [
            "\rpreprocessing:  61%|██████    | 139/229 [04:41<03:03,  2.03s/it]"
          ]
        },
        {
          "output_type": "stream",
          "name": "stdout",
          "text": [
            "Time Out!\n",
            "Time Out!\n",
            "Time Out!\n",
            "Time Out!\n",
            "Time Out!\n",
            "Time Out!\n",
            "Time Out!\n",
            "Time Out!\n",
            "Time Out!\n",
            "Time Out!\n",
            "Time Out!\n",
            "Time Out!\n",
            "Time Out!\n",
            "Time Out!\n",
            "Time Out!\n",
            "Time Out!\n",
            "Time Out!\n"
          ]
        },
        {
          "output_type": "stream",
          "name": "stderr",
          "text": [
            "\rpreprocessing:  61%|██████    | 140/229 [04:43<03:01,  2.04s/it]"
          ]
        },
        {
          "output_type": "stream",
          "name": "stdout",
          "text": [
            "Time Out!\n",
            "Time Out!\n",
            "Time Out!\n",
            "Time Out!\n",
            "Time Out!\n",
            "Time Out!\n",
            "Time Out!\n",
            "Time Out!\n",
            "Time Out!\n",
            "Time Out!\n",
            "Time Out!\n"
          ]
        },
        {
          "output_type": "stream",
          "name": "stderr",
          "text": [
            "\rpreprocessing:  62%|██████▏   | 141/229 [04:46<02:59,  2.04s/it]"
          ]
        },
        {
          "output_type": "stream",
          "name": "stdout",
          "text": [
            "Time Out!\n",
            "Time Out!\n",
            "Time Out!\n",
            "Time Out!\n",
            "Time Out!\n",
            "Time Out!\n"
          ]
        },
        {
          "output_type": "stream",
          "name": "stderr",
          "text": [
            "\rpreprocessing:  62%|██████▏   | 142/229 [04:48<02:56,  2.03s/it]"
          ]
        },
        {
          "output_type": "stream",
          "name": "stdout",
          "text": [
            "Time Out!\n",
            "Time Out!\n",
            "Time Out!\n",
            "Time Out!\n",
            "Time Out!\n",
            "Time Out!\n",
            "Time Out!\n",
            "Time Out!\n",
            "Time Out!\n",
            "Time Out!\n",
            "Time Out!\n",
            "Time Out!\n",
            "Time Out!\n"
          ]
        },
        {
          "output_type": "stream",
          "name": "stderr",
          "text": [
            "\rpreprocessing:  62%|██████▏   | 143/229 [04:50<02:55,  2.04s/it]"
          ]
        },
        {
          "output_type": "stream",
          "name": "stdout",
          "text": [
            "Time Out!\n",
            "Time Out!\n",
            "Time Out!\n",
            "Time Out!\n",
            "Time Out!\n",
            "Time Out!\n",
            "Time Out!\n",
            "Time Out!\n",
            "Time Out!\n",
            "Time Out!\n",
            "Time Out!\n",
            "Time Out!\n",
            "Time Out!\n",
            "Time Out!\n"
          ]
        },
        {
          "output_type": "stream",
          "name": "stderr",
          "text": [
            "\rpreprocessing:  63%|██████▎   | 144/229 [04:52<02:53,  2.04s/it]"
          ]
        },
        {
          "output_type": "stream",
          "name": "stdout",
          "text": [
            "Time Out!\n",
            "Time Out!\n",
            "Time Out!\n",
            "Time Out!\n",
            "Time Out!\n",
            "Time Out!\n",
            "Time Out!\n",
            "Time Out!\n",
            "Time Out!\n",
            "Time Out!\n",
            "Time Out!\n",
            "Time Out!\n",
            "Time Out!\n",
            "Time Out!\n",
            "Time Out!\n",
            "Time Out!\n",
            "Time Out!\n"
          ]
        },
        {
          "output_type": "stream",
          "name": "stderr",
          "text": [
            "\rpreprocessing:  63%|██████▎   | 145/229 [04:54<02:51,  2.04s/it]"
          ]
        },
        {
          "output_type": "stream",
          "name": "stdout",
          "text": [
            "Time Out!\n",
            "Time Out!\n",
            "Time Out!\n",
            "Time Out!\n",
            "Time Out!\n",
            "Time Out!\n",
            "Time Out!\n",
            "Time Out!\n",
            "Time Out!\n",
            "Time Out!\n",
            "Time Out!\n",
            "Time Out!\n",
            "Time Out!\n",
            "Time Out!\n",
            "Time Out!\n",
            "Time Out!\n"
          ]
        },
        {
          "output_type": "stream",
          "name": "stderr",
          "text": [
            "\rpreprocessing:  64%|██████▍   | 146/229 [04:56<02:49,  2.05s/it]"
          ]
        },
        {
          "output_type": "stream",
          "name": "stdout",
          "text": [
            "Time Out!\n",
            "Time Out!\n",
            "Time Out!\n",
            "Time Out!\n",
            "Time Out!\n",
            "Time Out!\n",
            "Time Out!\n",
            "Time Out!\n"
          ]
        },
        {
          "output_type": "stream",
          "name": "stderr",
          "text": [
            "\rpreprocessing:  64%|██████▍   | 147/229 [04:58<02:47,  2.04s/it]"
          ]
        },
        {
          "output_type": "stream",
          "name": "stdout",
          "text": [
            "Time Out!\n",
            "Time Out!\n",
            "Time Out!\n",
            "Time Out!\n",
            "Time Out!\n",
            "Time Out!\n",
            "Time Out!\n",
            "Time Out!\n"
          ]
        },
        {
          "output_type": "stream",
          "name": "stderr",
          "text": [
            "\rpreprocessing:  65%|██████▍   | 148/229 [05:00<02:44,  2.04s/it]"
          ]
        },
        {
          "output_type": "stream",
          "name": "stdout",
          "text": [
            "Time Out!\n",
            "Time Out!\n",
            "Time Out!\n",
            "Time Out!\n",
            "Time Out!\n"
          ]
        },
        {
          "output_type": "stream",
          "name": "stderr",
          "text": [
            "\rpreprocessing:  65%|██████▌   | 149/229 [05:02<02:42,  2.03s/it]"
          ]
        },
        {
          "output_type": "stream",
          "name": "stdout",
          "text": [
            "Time Out!\n",
            "Time Out!\n",
            "Time Out!\n",
            "Time Out!\n",
            "Time Out!\n",
            "Time Out!\n",
            "Time Out!\n",
            "Time Out!\n",
            "Time Out!\n",
            "Time Out!\n",
            "Time Out!\n",
            "Time Out!\n"
          ]
        },
        {
          "output_type": "stream",
          "name": "stderr",
          "text": [
            "\rpreprocessing:  66%|██████▌   | 150/229 [05:04<02:40,  2.03s/it]"
          ]
        },
        {
          "output_type": "stream",
          "name": "stdout",
          "text": [
            "Time Out!\n",
            "Time Out!\n",
            "Time Out!\n",
            "Time Out!\n",
            "Time Out!\n",
            "Time Out!\n",
            "Time Out!\n",
            "Time Out!\n",
            "Time Out!\n",
            "Time Out!\n"
          ]
        },
        {
          "output_type": "stream",
          "name": "stderr",
          "text": [
            "\rpreprocessing:  66%|██████▌   | 151/229 [05:06<02:38,  2.03s/it]"
          ]
        },
        {
          "output_type": "stream",
          "name": "stdout",
          "text": [
            "Time Out!\n",
            "Time Out!\n",
            "Time Out!\n",
            "Time Out!\n",
            "Time Out!\n",
            "Time Out!\n",
            "Time Out!\n",
            "Time Out!\n",
            "Time Out!\n",
            "Time Out!\n"
          ]
        },
        {
          "output_type": "stream",
          "name": "stderr",
          "text": [
            "\rpreprocessing:  66%|██████▋   | 152/229 [05:08<02:36,  2.03s/it]"
          ]
        },
        {
          "output_type": "stream",
          "name": "stdout",
          "text": [
            "Time Out!\n",
            "Time Out!\n",
            "Time Out!\n",
            "Time Out!\n",
            "Time Out!\n",
            "Time Out!\n",
            "Time Out!\n",
            "Time Out!\n",
            "Time Out!\n",
            "Time Out!\n",
            "Time Out!\n",
            "Time Out!\n"
          ]
        },
        {
          "output_type": "stream",
          "name": "stderr",
          "text": [
            "\rpreprocessing:  67%|██████▋   | 153/229 [05:10<02:34,  2.03s/it]"
          ]
        },
        {
          "output_type": "stream",
          "name": "stdout",
          "text": [
            "Time Out!\n",
            "Time Out!\n",
            "Time Out!\n",
            "Time Out!\n",
            "Time Out!\n",
            "Time Out!\n",
            "Time Out!\n",
            "Time Out!\n",
            "Time Out!\n",
            "Time Out!\n",
            "Time Out!\n",
            "Time Out!\n",
            "Time Out!\n",
            "Time Out!\n",
            "Time Out!\n",
            "Time Out!\n"
          ]
        },
        {
          "output_type": "stream",
          "name": "stderr",
          "text": [
            "\rpreprocessing:  67%|██████▋   | 154/229 [05:12<02:32,  2.04s/it]"
          ]
        },
        {
          "output_type": "stream",
          "name": "stdout",
          "text": [
            "Time Out!\n",
            "Time Out!\n",
            "Time Out!\n",
            "Time Out!\n",
            "Time Out!\n",
            "Time Out!\n",
            "Time Out!\n"
          ]
        },
        {
          "output_type": "stream",
          "name": "stderr",
          "text": [
            "\rpreprocessing:  68%|██████▊   | 155/229 [05:14<02:30,  2.03s/it]"
          ]
        },
        {
          "output_type": "stream",
          "name": "stdout",
          "text": [
            "Time Out!\n",
            "Time Out!\n",
            "Time Out!\n",
            "Time Out!\n",
            "Time Out!\n",
            "Time Out!\n",
            "Time Out!\n",
            "Time Out!\n",
            "Time Out!\n"
          ]
        },
        {
          "output_type": "stream",
          "name": "stderr",
          "text": [
            "\rpreprocessing:  68%|██████▊   | 156/229 [05:16<02:28,  2.03s/it]"
          ]
        },
        {
          "output_type": "stream",
          "name": "stdout",
          "text": [
            "Time Out!\n",
            "Time Out!\n",
            "Time Out!\n",
            "Time Out!\n",
            "Time Out!\n",
            "Time Out!\n",
            "Time Out!\n",
            "Time Out!\n",
            "Time Out!\n"
          ]
        },
        {
          "output_type": "stream",
          "name": "stderr",
          "text": [
            "\rpreprocessing:  69%|██████▊   | 157/229 [05:18<02:26,  2.03s/it]"
          ]
        },
        {
          "output_type": "stream",
          "name": "stdout",
          "text": [
            "Time Out!\n",
            "Time Out!\n",
            "Time Out!\n",
            "Time Out!\n",
            "Time Out!\n",
            "Time Out!\n",
            "Time Out!\n",
            "Time Out!\n",
            "Time Out!\n",
            "Time Out!\n",
            "Time Out!\n",
            "Time Out!\n",
            "Time Out!\n"
          ]
        },
        {
          "output_type": "stream",
          "name": "stderr",
          "text": [
            "\rpreprocessing:  69%|██████▉   | 158/229 [05:20<02:24,  2.03s/it]"
          ]
        },
        {
          "output_type": "stream",
          "name": "stdout",
          "text": [
            "Time Out!\n",
            "Time Out!\n",
            "Time Out!\n",
            "Time Out!\n",
            "Time Out!\n",
            "Time Out!\n",
            "Time Out!\n",
            "Time Out!\n",
            "Time Out!\n",
            "Time Out!\n",
            "Time Out!\n",
            "Time Out!\n",
            "Time Out!\n",
            "Time Out!\n",
            "Time Out!\n",
            "Time Out!\n",
            "Time Out!\n",
            "Time Out!\n"
          ]
        },
        {
          "output_type": "stream",
          "name": "stderr",
          "text": [
            "\rpreprocessing:  69%|██████▉   | 159/229 [05:22<02:22,  2.04s/it]"
          ]
        },
        {
          "output_type": "stream",
          "name": "stdout",
          "text": [
            "Time Out!\n",
            "Time Out!\n",
            "Time Out!\n",
            "Time Out!\n",
            "Time Out!\n",
            "Time Out!\n"
          ]
        },
        {
          "output_type": "stream",
          "name": "stderr",
          "text": [
            "\rpreprocessing:  70%|██████▉   | 160/229 [05:24<02:20,  2.03s/it]"
          ]
        },
        {
          "output_type": "stream",
          "name": "stdout",
          "text": [
            "Time Out!\n",
            "Time Out!\n",
            "Time Out!\n",
            "Time Out!\n",
            "Time Out!\n",
            "Time Out!\n"
          ]
        },
        {
          "output_type": "stream",
          "name": "stderr",
          "text": [
            "\rpreprocessing:  70%|███████   | 161/229 [05:26<02:17,  2.03s/it]"
          ]
        },
        {
          "output_type": "stream",
          "name": "stdout",
          "text": [
            "Time Out!\n",
            "Time Out!\n",
            "Time Out!\n"
          ]
        },
        {
          "output_type": "stream",
          "name": "stderr",
          "text": [
            "\rpreprocessing:  71%|███████   | 162/229 [05:28<02:15,  2.02s/it]"
          ]
        },
        {
          "output_type": "stream",
          "name": "stdout",
          "text": [
            "Time Out!\n",
            "Time Out!\n",
            "Time Out!\n",
            "Time Out!\n"
          ]
        },
        {
          "output_type": "stream",
          "name": "stderr",
          "text": [
            "\rpreprocessing:  71%|███████   | 163/229 [05:30<02:13,  2.02s/it]"
          ]
        },
        {
          "output_type": "stream",
          "name": "stdout",
          "text": [
            "Time Out!\n",
            "Time Out!\n",
            "Time Out!\n",
            "Time Out!\n",
            "Time Out!\n",
            "Time Out!\n",
            "Time Out!\n"
          ]
        },
        {
          "output_type": "stream",
          "name": "stderr",
          "text": [
            "\rpreprocessing:  72%|███████▏  | 164/229 [05:32<02:11,  2.02s/it]"
          ]
        },
        {
          "output_type": "stream",
          "name": "stdout",
          "text": [
            "Time Out!\n",
            "Time Out!\n",
            "Time Out!\n",
            "Time Out!\n",
            "Time Out!\n",
            "Time Out!\n",
            "Time Out!\n",
            "Time Out!\n",
            "Time Out!\n",
            "Time Out!\n",
            "Time Out!\n",
            "Time Out!\n",
            "Time Out!\n"
          ]
        },
        {
          "output_type": "stream",
          "name": "stderr",
          "text": [
            "\rpreprocessing:  72%|███████▏  | 165/229 [05:34<02:09,  2.03s/it]"
          ]
        },
        {
          "output_type": "stream",
          "name": "stdout",
          "text": [
            "Time Out!\n",
            "Time Out!\n",
            "Time Out!\n",
            "Time Out!\n",
            "Time Out!\n",
            "Time Out!\n",
            "Time Out!\n"
          ]
        },
        {
          "output_type": "stream",
          "name": "stderr",
          "text": [
            "\rpreprocessing:  72%|███████▏  | 166/229 [05:36<02:07,  2.03s/it]"
          ]
        },
        {
          "output_type": "stream",
          "name": "stdout",
          "text": [
            "Time Out!\n",
            "Time Out!\n",
            "Time Out!\n",
            "Time Out!\n",
            "Time Out!\n",
            "Time Out!\n",
            "Time Out!\n",
            "Time Out!\n",
            "Time Out!\n",
            "Time Out!\n",
            "Time Out!\n",
            "Time Out!\n",
            "Time Out!\n",
            "Time Out!\n"
          ]
        },
        {
          "output_type": "stream",
          "name": "stderr",
          "text": [
            "\rpreprocessing:  73%|███████▎  | 167/229 [05:38<02:06,  2.03s/it]"
          ]
        },
        {
          "output_type": "stream",
          "name": "stdout",
          "text": [
            "Time Out!\n",
            "Time Out!\n",
            "Time Out!\n",
            "Time Out!\n",
            "Time Out!\n",
            "Time Out!\n",
            "Time Out!\n",
            "Time Out!\n"
          ]
        },
        {
          "output_type": "stream",
          "name": "stderr",
          "text": [
            "\rpreprocessing:  73%|███████▎  | 168/229 [05:40<02:03,  2.03s/it]"
          ]
        },
        {
          "output_type": "stream",
          "name": "stdout",
          "text": [
            "Time Out!\n",
            "Time Out!\n",
            "Time Out!\n",
            "Time Out!\n",
            "Time Out!\n",
            "Time Out!\n",
            "Time Out!\n",
            "Time Out!\n",
            "Time Out!\n",
            "Time Out!\n",
            "Time Out!\n",
            "Time Out!\n"
          ]
        },
        {
          "output_type": "stream",
          "name": "stderr",
          "text": [
            "\rpreprocessing:  74%|███████▍  | 169/229 [05:42<02:02,  2.03s/it]"
          ]
        },
        {
          "output_type": "stream",
          "name": "stdout",
          "text": [
            "Time Out!\n",
            "Time Out!\n",
            "Time Out!\n",
            "Time Out!\n",
            "Time Out!\n",
            "Time Out!\n",
            "Time Out!\n"
          ]
        },
        {
          "output_type": "stream",
          "name": "stderr",
          "text": [
            "\rpreprocessing:  74%|███████▍  | 170/229 [05:44<01:59,  2.03s/it]"
          ]
        },
        {
          "output_type": "stream",
          "name": "stdout",
          "text": [
            "Time Out!\n",
            "Time Out!\n",
            "Time Out!\n",
            "Time Out!\n",
            "Time Out!\n",
            "Time Out!\n",
            "Time Out!\n",
            "Time Out!\n",
            "Time Out!\n",
            "Time Out!\n",
            "Time Out!\n",
            "Time Out!\n",
            "Time Out!\n"
          ]
        },
        {
          "output_type": "stream",
          "name": "stderr",
          "text": [
            "\rpreprocessing:  75%|███████▍  | 171/229 [05:46<01:57,  2.03s/it]"
          ]
        },
        {
          "output_type": "stream",
          "name": "stdout",
          "text": [
            "Time Out!\n",
            "Time Out!\n",
            "Time Out!\n"
          ]
        },
        {
          "output_type": "stream",
          "name": "stderr",
          "text": [
            "\rpreprocessing:  75%|███████▌  | 172/229 [05:48<01:55,  2.03s/it]"
          ]
        },
        {
          "output_type": "stream",
          "name": "stdout",
          "text": [
            "Time Out!\n",
            "Time Out!\n",
            "Time Out!\n",
            "Time Out!\n",
            "Time Out!\n",
            "Time Out!\n",
            "Time Out!\n"
          ]
        },
        {
          "output_type": "stream",
          "name": "stderr",
          "text": [
            "\rpreprocessing:  76%|███████▌  | 173/229 [05:51<01:53,  2.03s/it]"
          ]
        },
        {
          "output_type": "stream",
          "name": "stdout",
          "text": [
            "Time Out!\n",
            "Time Out!\n",
            "Time Out!\n",
            "Time Out!\n",
            "Time Out!\n",
            "Time Out!\n",
            "Time Out!\n",
            "Time Out!\n",
            "Time Out!\n",
            "Time Out!\n"
          ]
        },
        {
          "output_type": "stream",
          "name": "stderr",
          "text": [
            "\rpreprocessing:  76%|███████▌  | 174/229 [05:53<01:51,  2.03s/it]"
          ]
        },
        {
          "output_type": "stream",
          "name": "stdout",
          "text": [
            "Time Out!\n",
            "Time Out!\n",
            "Time Out!\n",
            "Time Out!\n",
            "Time Out!\n",
            "Time Out!\n",
            "Time Out!\n",
            "Time Out!\n",
            "Time Out!\n"
          ]
        },
        {
          "output_type": "stream",
          "name": "stderr",
          "text": [
            "\rpreprocessing:  76%|███████▋  | 175/229 [05:55<01:49,  2.03s/it]"
          ]
        },
        {
          "output_type": "stream",
          "name": "stdout",
          "text": [
            "Time Out!\n",
            "Time Out!\n",
            "Time Out!\n",
            "Time Out!\n",
            "Time Out!\n",
            "Time Out!\n"
          ]
        },
        {
          "output_type": "stream",
          "name": "stderr",
          "text": [
            "\rpreprocessing:  77%|███████▋  | 176/229 [05:57<01:47,  2.03s/it]"
          ]
        },
        {
          "output_type": "stream",
          "name": "stdout",
          "text": [
            "Time Out!\n",
            "Time Out!\n"
          ]
        },
        {
          "output_type": "stream",
          "name": "stderr",
          "text": [
            "\rpreprocessing:  77%|███████▋  | 177/229 [05:59<01:45,  2.02s/it]"
          ]
        },
        {
          "output_type": "stream",
          "name": "stdout",
          "text": [
            "Time Out!\n",
            "Time Out!\n",
            "Time Out!\n",
            "Time Out!\n"
          ]
        },
        {
          "output_type": "stream",
          "name": "stderr",
          "text": [
            "\rpreprocessing:  78%|███████▊  | 178/229 [06:01<01:43,  2.02s/it]"
          ]
        },
        {
          "output_type": "stream",
          "name": "stdout",
          "text": [
            "Time Out!\n",
            "Time Out!\n",
            "Time Out!\n",
            "Time Out!\n",
            "Time Out!\n",
            "Time Out!\n",
            "Time Out!\n",
            "Time Out!\n",
            "Time Out!\n",
            "Time Out!\n",
            "Time Out!\n",
            "Time Out!\n",
            "Time Out!\n"
          ]
        },
        {
          "output_type": "stream",
          "name": "stderr",
          "text": [
            "\rpreprocessing:  78%|███████▊  | 179/229 [06:03<01:41,  2.03s/it]"
          ]
        },
        {
          "output_type": "stream",
          "name": "stdout",
          "text": [
            "Time Out!\n",
            "Time Out!\n",
            "Time Out!\n",
            "Time Out!\n",
            "Time Out!\n",
            "Time Out!\n",
            "Time Out!\n",
            "Time Out!\n",
            "Time Out!\n"
          ]
        },
        {
          "output_type": "stream",
          "name": "stderr",
          "text": [
            "\rpreprocessing:  79%|███████▊  | 180/229 [06:05<01:39,  2.03s/it]"
          ]
        },
        {
          "output_type": "stream",
          "name": "stdout",
          "text": [
            "Time Out!\n",
            "Time Out!\n",
            "Time Out!\n",
            "Time Out!\n",
            "Time Out!\n",
            "Time Out!\n",
            "Time Out!\n",
            "Time Out!\n",
            "Time Out!\n",
            "Time Out!\n",
            "Time Out!\n",
            "Time Out!\n",
            "Time Out!\n",
            "Time Out!\n",
            "Time Out!\n",
            "Time Out!\n"
          ]
        },
        {
          "output_type": "stream",
          "name": "stderr",
          "text": [
            "\rpreprocessing:  79%|███████▉  | 181/229 [06:07<01:37,  2.03s/it]"
          ]
        },
        {
          "output_type": "stream",
          "name": "stdout",
          "text": [
            "Time Out!\n",
            "Time Out!\n",
            "Time Out!\n",
            "Time Out!\n"
          ]
        },
        {
          "output_type": "stream",
          "name": "stderr",
          "text": [
            "\rpreprocessing:  79%|███████▉  | 182/229 [06:09<01:35,  2.03s/it]"
          ]
        },
        {
          "output_type": "stream",
          "name": "stdout",
          "text": [
            "Time Out!\n",
            "Time Out!\n",
            "Time Out!\n",
            "Time Out!\n",
            "Time Out!\n",
            "Time Out!\n",
            "Time Out!\n",
            "Time Out!\n",
            "Time Out!\n",
            "Time Out!\n",
            "Time Out!\n"
          ]
        },
        {
          "output_type": "stream",
          "name": "stderr",
          "text": [
            "\rpreprocessing:  80%|███████▉  | 183/229 [06:11<01:33,  2.03s/it]"
          ]
        },
        {
          "output_type": "stream",
          "name": "stdout",
          "text": [
            "Time Out!\n",
            "Time Out!\n",
            "Time Out!\n",
            "Time Out!\n",
            "Time Out!\n",
            "Time Out!\n",
            "Time Out!\n",
            "Time Out!\n",
            "Time Out!\n",
            "Time Out!\n",
            "Time Out!\n"
          ]
        },
        {
          "output_type": "stream",
          "name": "stderr",
          "text": [
            "\rpreprocessing:  80%|████████  | 184/229 [06:13<01:31,  2.03s/it]"
          ]
        },
        {
          "output_type": "stream",
          "name": "stdout",
          "text": [
            "Time Out!\n",
            "Time Out!\n",
            "Time Out!\n",
            "Time Out!\n",
            "Time Out!\n",
            "Time Out!\n",
            "Time Out!\n",
            "Time Out!\n",
            "Time Out!\n",
            "Time Out!\n",
            "Time Out!\n",
            "Time Out!\n",
            "Time Out!\n",
            "Time Out!\n",
            "Time Out!\n"
          ]
        },
        {
          "output_type": "stream",
          "name": "stderr",
          "text": [
            "\rpreprocessing:  81%|████████  | 185/229 [06:15<01:29,  2.04s/it]"
          ]
        },
        {
          "output_type": "stream",
          "name": "stdout",
          "text": [
            "Time Out!\n",
            "Time Out!\n",
            "Time Out!\n",
            "Time Out!\n",
            "Time Out!\n",
            "Time Out!\n",
            "Time Out!\n",
            "Time Out!\n",
            "Time Out!\n",
            "Time Out!\n",
            "Time Out!\n",
            "Time Out!\n",
            "Time Out!\n",
            "Time Out!\n",
            "Time Out!\n"
          ]
        },
        {
          "output_type": "stream",
          "name": "stderr",
          "text": [
            "\rpreprocessing:  81%|████████  | 186/229 [06:17<01:27,  2.04s/it]"
          ]
        },
        {
          "output_type": "stream",
          "name": "stdout",
          "text": [
            "Time Out!\n",
            "Time Out!\n",
            "Time Out!\n",
            "Time Out!\n",
            "Time Out!\n",
            "Time Out!\n",
            "Time Out!\n",
            "Time Out!\n",
            "Time Out!\n",
            "Time Out!\n",
            "Time Out!\n",
            "Time Out!\n",
            "Time Out!\n",
            "Time Out!\n",
            "Time Out!\n",
            "Time Out!\n",
            "Time Out!\n"
          ]
        },
        {
          "output_type": "stream",
          "name": "stderr",
          "text": [
            "\rpreprocessing:  82%|████████▏ | 187/229 [06:19<01:25,  2.04s/it]"
          ]
        },
        {
          "output_type": "stream",
          "name": "stdout",
          "text": [
            "Time Out!\n",
            "Time Out!\n",
            "Time Out!\n",
            "Time Out!\n",
            "Time Out!\n",
            "Time Out!\n",
            "Time Out!\n",
            "Time Out!\n",
            "Time Out!\n",
            "Time Out!\n",
            "Time Out!\n",
            "Time Out!\n",
            "Time Out!\n"
          ]
        },
        {
          "output_type": "stream",
          "name": "stderr",
          "text": [
            "\rpreprocessing:  82%|████████▏ | 188/229 [06:21<01:23,  2.04s/it]"
          ]
        },
        {
          "output_type": "stream",
          "name": "stdout",
          "text": [
            "Time Out!\n",
            "Time Out!\n",
            "Time Out!\n",
            "Time Out!\n",
            "Time Out!\n",
            "Time Out!\n",
            "Time Out!\n",
            "Time Out!\n",
            "Time Out!\n",
            "Time Out!\n",
            "Time Out!\n",
            "Time Out!\n"
          ]
        },
        {
          "output_type": "stream",
          "name": "stderr",
          "text": [
            "\rpreprocessing:  83%|████████▎ | 189/229 [06:23<01:21,  2.04s/it]"
          ]
        },
        {
          "output_type": "stream",
          "name": "stdout",
          "text": [
            "Time Out!\n",
            "Time Out!\n",
            "Time Out!\n",
            "Time Out!\n",
            "Time Out!\n",
            "Time Out!\n",
            "Time Out!\n",
            "Time Out!\n",
            "Time Out!\n",
            "Time Out!\n",
            "Time Out!\n",
            "Time Out!\n",
            "Time Out!\n",
            "Time Out!\n",
            "Time Out!\n",
            "Time Out!\n",
            "Time Out!\n",
            "Time Out!\n",
            "Time Out!\n",
            "Time Out!\n"
          ]
        },
        {
          "output_type": "stream",
          "name": "stderr",
          "text": [
            "\rpreprocessing:  83%|████████▎ | 190/229 [06:25<01:19,  2.04s/it]"
          ]
        },
        {
          "output_type": "stream",
          "name": "stdout",
          "text": [
            "Time Out!\n",
            "Time Out!\n",
            "Time Out!\n",
            "Time Out!\n",
            "Time Out!\n",
            "Time Out!\n",
            "Time Out!\n",
            "Time Out!\n",
            "Time Out!\n",
            "Time Out!\n",
            "Time Out!\n",
            "Time Out!\n",
            "Time Out!\n",
            "Time Out!\n",
            "Time Out!\n",
            "Time Out!\n",
            "Time Out!\n",
            "Time Out!\n",
            "Time Out!\n",
            "Time Out!\n",
            "Time Out!\n",
            "Time Out!\n",
            "Time Out!\n",
            "Time Out!\n",
            "Time Out!\n",
            "Time Out!\n",
            "Time Out!\n",
            "Time Out!\n",
            "Time Out!\n",
            "Time Out!\n",
            "Time Out!\n",
            "Time Out!\n",
            "Time Out!\n",
            "Time Out!\n",
            "Time Out!\n",
            "Time Out!\n",
            "Time Out!\n",
            "Time Out!\n"
          ]
        },
        {
          "output_type": "stream",
          "name": "stderr",
          "text": [
            "\rpreprocessing:  83%|████████▎ | 191/229 [06:27<01:18,  2.06s/it]"
          ]
        },
        {
          "output_type": "stream",
          "name": "stdout",
          "text": [
            "Time Out!\n",
            "Time Out!\n",
            "Time Out!\n",
            "Time Out!\n",
            "Time Out!\n",
            "Time Out!\n",
            "Time Out!\n",
            "Time Out!\n",
            "Time Out!\n",
            "Time Out!\n",
            "Time Out!\n",
            "Time Out!\n",
            "Time Out!\n",
            "Time Out!\n",
            "Time Out!\n",
            "Time Out!\n",
            "Time Out!\n",
            "Time Out!\n",
            "Time Out!\n",
            "Time Out!\n",
            "Time Out!\n",
            "Time Out!\n",
            "Time Out!\n",
            "Time Out!\n",
            "Time Out!\n",
            "Time Out!\n",
            "Time Out!\n",
            "Time Out!\n"
          ]
        },
        {
          "output_type": "stream",
          "name": "stderr",
          "text": [
            "\rpreprocessing:  84%|████████▍ | 192/229 [06:29<01:16,  2.06s/it]"
          ]
        },
        {
          "output_type": "stream",
          "name": "stdout",
          "text": [
            "Time Out!\n",
            "Time Out!\n",
            "Time Out!\n",
            "Time Out!\n",
            "Time Out!\n",
            "Time Out!\n",
            "Time Out!\n",
            "Time Out!\n",
            "Time Out!\n",
            "Time Out!\n",
            "Time Out!\n",
            "Time Out!\n",
            "Time Out!\n",
            "Time Out!\n"
          ]
        },
        {
          "output_type": "stream",
          "name": "stderr",
          "text": [
            "\rpreprocessing:  84%|████████▍ | 193/229 [06:31<01:14,  2.06s/it]"
          ]
        },
        {
          "output_type": "stream",
          "name": "stdout",
          "text": [
            "Time Out!\n",
            "Time Out!\n",
            "Time Out!\n",
            "Time Out!\n",
            "Time Out!\n",
            "Time Out!\n",
            "Time Out!\n",
            "Time Out!\n",
            "Time Out!\n",
            "Time Out!\n",
            "Time Out!\n",
            "Time Out!\n",
            "Time Out!\n",
            "Time Out!\n",
            "Time Out!\n",
            "Time Out!\n",
            "Time Out!\n",
            "Time Out!\n",
            "Time Out!\n"
          ]
        },
        {
          "output_type": "stream",
          "name": "stderr",
          "text": [
            "\rpreprocessing:  85%|████████▍ | 194/229 [06:33<01:11,  2.05s/it]"
          ]
        },
        {
          "output_type": "stream",
          "name": "stdout",
          "text": [
            "Time Out!\n",
            "Time Out!\n",
            "Time Out!\n",
            "Time Out!\n",
            "Time Out!\n",
            "Time Out!\n",
            "Time Out!\n",
            "Time Out!\n",
            "Time Out!\n",
            "Time Out!\n",
            "Time Out!\n",
            "Time Out!\n",
            "Time Out!\n",
            "Time Out!\n",
            "Time Out!\n",
            "Time Out!\n"
          ]
        },
        {
          "output_type": "stream",
          "name": "stderr",
          "text": [
            "\rpreprocessing:  85%|████████▌ | 195/229 [06:35<01:09,  2.05s/it]"
          ]
        },
        {
          "output_type": "stream",
          "name": "stdout",
          "text": [
            "Time Out!\n",
            "Time Out!\n",
            "Time Out!\n",
            "Time Out!\n",
            "Time Out!\n",
            "Time Out!\n",
            "Time Out!\n",
            "Time Out!\n",
            "Time Out!\n",
            "Time Out!\n",
            "Time Out!\n",
            "Time Out!\n"
          ]
        },
        {
          "output_type": "stream",
          "name": "stderr",
          "text": [
            "\rpreprocessing:  86%|████████▌ | 196/229 [06:37<01:07,  2.05s/it]"
          ]
        },
        {
          "output_type": "stream",
          "name": "stdout",
          "text": [
            "Time Out!\n",
            "Time Out!\n",
            "Time Out!\n",
            "Time Out!\n",
            "Time Out!\n",
            "Time Out!\n",
            "Time Out!\n",
            "Time Out!\n",
            "Time Out!\n",
            "Time Out!\n",
            "Time Out!\n"
          ]
        },
        {
          "output_type": "stream",
          "name": "stderr",
          "text": [
            "\rpreprocessing:  86%|████████▌ | 197/229 [06:39<01:05,  2.04s/it]"
          ]
        },
        {
          "output_type": "stream",
          "name": "stdout",
          "text": [
            "Time Out!\n",
            "Time Out!\n",
            "Time Out!\n",
            "Time Out!\n",
            "Time Out!\n",
            "Time Out!\n",
            "Time Out!\n",
            "Time Out!\n",
            "Time Out!\n",
            "Time Out!\n",
            "Time Out!\n",
            "Time Out!\n",
            "Time Out!\n"
          ]
        },
        {
          "output_type": "stream",
          "name": "stderr",
          "text": [
            "\rpreprocessing:  86%|████████▋ | 198/229 [06:42<01:03,  2.04s/it]"
          ]
        },
        {
          "output_type": "stream",
          "name": "stdout",
          "text": [
            "Time Out!\n",
            "Time Out!\n",
            "Time Out!\n",
            "Time Out!\n",
            "Time Out!\n",
            "Time Out!\n",
            "Time Out!\n",
            "Time Out!\n",
            "Time Out!\n",
            "Time Out!\n",
            "Time Out!\n",
            "Time Out!\n",
            "Time Out!\n",
            "Time Out!\n",
            "Time Out!\n",
            "Time Out!\n"
          ]
        },
        {
          "output_type": "stream",
          "name": "stderr",
          "text": [
            "\rpreprocessing:  87%|████████▋ | 199/229 [06:44<01:01,  2.04s/it]"
          ]
        },
        {
          "output_type": "stream",
          "name": "stdout",
          "text": [
            "Time Out!\n",
            "Time Out!\n",
            "Time Out!\n",
            "Time Out!\n",
            "Time Out!\n",
            "Time Out!\n",
            "Time Out!\n",
            "Time Out!\n",
            "Time Out!\n",
            "Time Out!\n",
            "Time Out!\n",
            "Time Out!\n",
            "Time Out!\n",
            "Time Out!\n",
            "Time Out!\n",
            "Time Out!\n",
            "Time Out!\n",
            "Time Out!\n",
            "Time Out!\n",
            "Time Out!\n",
            "Time Out!\n",
            "Time Out!\n",
            "Time Out!\n"
          ]
        },
        {
          "output_type": "stream",
          "name": "stderr",
          "text": [
            "\rpreprocessing:  87%|████████▋ | 200/229 [06:46<00:59,  2.05s/it]"
          ]
        },
        {
          "output_type": "stream",
          "name": "stdout",
          "text": [
            "Time Out!\n",
            "Time Out!\n",
            "Time Out!\n",
            "Time Out!\n",
            "Time Out!\n",
            "Time Out!\n",
            "Time Out!\n",
            "Time Out!\n",
            "Time Out!\n",
            "Time Out!\n",
            "Time Out!\n",
            "Time Out!\n",
            "Time Out!\n",
            "Time Out!\n",
            "Time Out!\n",
            "Time Out!\n",
            "Time Out!\n",
            "Time Out!\n",
            "Time Out!\n",
            "Time Out!\n",
            "Time Out!\n",
            "Time Out!\n",
            "Time Out!\n",
            "Time Out!\n",
            "Time Out!\n",
            "Time Out!\n",
            "Time Out!\n",
            "Time Out!\n"
          ]
        },
        {
          "output_type": "stream",
          "name": "stderr",
          "text": [
            "\rpreprocessing:  88%|████████▊ | 201/229 [06:48<00:57,  2.06s/it]"
          ]
        },
        {
          "output_type": "stream",
          "name": "stdout",
          "text": [
            "Time Out!\n",
            "Time Out!\n",
            "Time Out!\n",
            "Time Out!\n",
            "Time Out!\n",
            "Time Out!\n",
            "Time Out!\n",
            "Time Out!\n",
            "Time Out!\n",
            "Time Out!\n",
            "Time Out!\n",
            "Time Out!\n",
            "Time Out!\n",
            "Time Out!\n",
            "Time Out!\n",
            "Time Out!\n",
            "Time Out!\n",
            "Time Out!\n",
            "Time Out!\n",
            "Time Out!\n",
            "Time Out!\n",
            "Time Out!\n",
            "Time Out!\n",
            "Time Out!\n",
            "Time Out!\n",
            "Time Out!\n"
          ]
        },
        {
          "output_type": "stream",
          "name": "stderr",
          "text": [
            "\rpreprocessing:  88%|████████▊ | 202/229 [06:50<00:55,  2.06s/it]"
          ]
        },
        {
          "output_type": "stream",
          "name": "stdout",
          "text": [
            "Time Out!\n",
            "Time Out!\n",
            "Time Out!\n",
            "Time Out!\n",
            "Time Out!\n",
            "Time Out!\n",
            "Time Out!\n",
            "Time Out!\n",
            "Time Out!\n"
          ]
        },
        {
          "output_type": "stream",
          "name": "stderr",
          "text": [
            "\rpreprocessing:  89%|████████▊ | 203/229 [06:52<00:53,  2.05s/it]"
          ]
        },
        {
          "output_type": "stream",
          "name": "stdout",
          "text": [
            "Time Out!\n",
            "Time Out!\n",
            "Time Out!\n",
            "Time Out!\n",
            "Time Out!\n",
            "Time Out!\n",
            "Time Out!\n"
          ]
        },
        {
          "output_type": "stream",
          "name": "stderr",
          "text": [
            "\rpreprocessing:  89%|████████▉ | 204/229 [06:54<00:51,  2.04s/it]"
          ]
        },
        {
          "output_type": "stream",
          "name": "stdout",
          "text": [
            "Time Out!\n",
            "Time Out!\n",
            "Time Out!\n",
            "Time Out!\n",
            "Time Out!\n",
            "Time Out!\n",
            "Time Out!\n",
            "Time Out!\n",
            "Time Out!\n",
            "Time Out!\n",
            "Time Out!\n"
          ]
        },
        {
          "output_type": "stream",
          "name": "stderr",
          "text": [
            "\rpreprocessing:  90%|████████▉ | 205/229 [06:56<00:48,  2.04s/it]"
          ]
        },
        {
          "output_type": "stream",
          "name": "stdout",
          "text": [
            "Time Out!\n",
            "Time Out!\n",
            "Time Out!\n",
            "Time Out!\n",
            "Time Out!\n",
            "Time Out!\n",
            "Time Out!\n",
            "Time Out!\n",
            "Time Out!\n",
            "Time Out!\n",
            "Time Out!\n"
          ]
        },
        {
          "output_type": "stream",
          "name": "stderr",
          "text": [
            "\rpreprocessing:  90%|████████▉ | 206/229 [06:58<00:46,  2.04s/it]"
          ]
        },
        {
          "output_type": "stream",
          "name": "stdout",
          "text": [
            "Time Out!\n",
            "Time Out!\n",
            "Time Out!\n",
            "Time Out!\n",
            "Time Out!\n",
            "Time Out!\n",
            "Time Out!\n",
            "Time Out!\n",
            "Time Out!\n",
            "Time Out!\n",
            "Time Out!\n",
            "Time Out!\n",
            "Time Out!\n",
            "Time Out!\n",
            "Time Out!\n",
            "Time Out!\n",
            "Time Out!\n",
            "Time Out!\n"
          ]
        },
        {
          "output_type": "stream",
          "name": "stderr",
          "text": [
            "\rpreprocessing:  90%|█████████ | 207/229 [07:00<00:44,  2.04s/it]"
          ]
        },
        {
          "output_type": "stream",
          "name": "stdout",
          "text": [
            "Time Out!\n",
            "Time Out!\n",
            "Time Out!\n",
            "Time Out!\n",
            "Time Out!\n",
            "Time Out!\n",
            "Time Out!\n",
            "Time Out!\n",
            "Time Out!\n",
            "Time Out!\n",
            "Time Out!\n",
            "Time Out!\n",
            "Time Out!\n",
            "Time Out!\n"
          ]
        },
        {
          "output_type": "stream",
          "name": "stderr",
          "text": [
            "\rpreprocessing:  91%|█████████ | 208/229 [07:02<00:42,  2.04s/it]"
          ]
        },
        {
          "output_type": "stream",
          "name": "stdout",
          "text": [
            "Time Out!\n",
            "Time Out!\n",
            "Time Out!\n"
          ]
        },
        {
          "output_type": "stream",
          "name": "stderr",
          "text": [
            "\rpreprocessing:  91%|█████████▏| 209/229 [07:04<00:40,  2.03s/it]"
          ]
        },
        {
          "output_type": "stream",
          "name": "stdout",
          "text": [
            "Time Out!\n",
            "Time Out!\n",
            "Time Out!\n",
            "Time Out!\n",
            "Time Out!\n",
            "Time Out!\n",
            "Time Out!\n"
          ]
        },
        {
          "output_type": "stream",
          "name": "stderr",
          "text": [
            "\rpreprocessing:  92%|█████████▏| 210/229 [07:06<00:38,  2.03s/it]"
          ]
        },
        {
          "output_type": "stream",
          "name": "stdout",
          "text": [
            "Time Out!\n",
            "Time Out!\n",
            "Time Out!\n",
            "Time Out!\n",
            "Time Out!\n",
            "Time Out!\n",
            "Time Out!\n",
            "Time Out!\n",
            "Time Out!\n"
          ]
        },
        {
          "output_type": "stream",
          "name": "stderr",
          "text": [
            "\rpreprocessing:  92%|█████████▏| 211/229 [07:08<00:36,  2.03s/it]"
          ]
        },
        {
          "output_type": "stream",
          "name": "stdout",
          "text": [
            "Time Out!\n",
            "Time Out!\n",
            "Time Out!\n",
            "Time Out!\n",
            "Time Out!\n",
            "Time Out!\n",
            "Time Out!\n",
            "Time Out!\n",
            "Time Out!\n",
            "Time Out!\n",
            "Time Out!\n"
          ]
        },
        {
          "output_type": "stream",
          "name": "stderr",
          "text": [
            "\rpreprocessing:  93%|█████████▎| 212/229 [07:10<00:34,  2.03s/it]"
          ]
        },
        {
          "output_type": "stream",
          "name": "stdout",
          "text": [
            "Time Out!\n",
            "Time Out!\n",
            "Time Out!\n",
            "Time Out!\n",
            "Time Out!\n",
            "Time Out!\n",
            "Time Out!\n",
            "Time Out!\n",
            "Time Out!\n",
            "Time Out!\n",
            "Time Out!\n",
            "Time Out!\n",
            "Time Out!\n"
          ]
        },
        {
          "output_type": "stream",
          "name": "stderr",
          "text": [
            "\rpreprocessing:  93%|█████████▎| 213/229 [07:12<00:32,  2.03s/it]"
          ]
        },
        {
          "output_type": "stream",
          "name": "stdout",
          "text": [
            "Time Out!\n",
            "Time Out!\n",
            "Time Out!\n",
            "Time Out!\n",
            "Time Out!\n",
            "Time Out!\n",
            "Time Out!\n",
            "Time Out!\n",
            "Time Out!\n"
          ]
        },
        {
          "output_type": "stream",
          "name": "stderr",
          "text": [
            "\rpreprocessing:  93%|█████████▎| 214/229 [07:14<00:30,  2.03s/it]"
          ]
        },
        {
          "output_type": "stream",
          "name": "stdout",
          "text": [
            "Time Out!\n",
            "Time Out!\n",
            "Time Out!\n",
            "Time Out!\n",
            "Time Out!\n",
            "Time Out!\n",
            "Time Out!\n",
            "Time Out!\n",
            "Time Out!\n",
            "Time Out!\n",
            "Time Out!\n",
            "Time Out!\n",
            "Time Out!\n",
            "Time Out!\n"
          ]
        },
        {
          "output_type": "stream",
          "name": "stderr",
          "text": [
            "\rpreprocessing:  94%|█████████▍| 215/229 [07:16<00:28,  2.03s/it]"
          ]
        },
        {
          "output_type": "stream",
          "name": "stdout",
          "text": [
            "Time Out!\n",
            "Time Out!\n",
            "Time Out!\n",
            "Time Out!\n",
            "Time Out!\n"
          ]
        },
        {
          "output_type": "stream",
          "name": "stderr",
          "text": [
            "\rpreprocessing:  94%|█████████▍| 216/229 [07:18<00:26,  2.03s/it]"
          ]
        },
        {
          "output_type": "stream",
          "name": "stdout",
          "text": [
            "Time Out!\n",
            "Time Out!\n",
            "Time Out!\n",
            "Time Out!\n",
            "Time Out!\n",
            "Time Out!\n",
            "Time Out!\n",
            "Time Out!\n",
            "Time Out!\n",
            "Time Out!\n"
          ]
        },
        {
          "output_type": "stream",
          "name": "stderr",
          "text": [
            "\rpreprocessing:  95%|█████████▍| 217/229 [07:20<00:24,  2.03s/it]"
          ]
        },
        {
          "output_type": "stream",
          "name": "stdout",
          "text": [
            "Time Out!\n",
            "Time Out!\n",
            "Time Out!\n",
            "Time Out!\n",
            "Time Out!\n",
            "Time Out!\n",
            "Time Out!\n",
            "Time Out!\n",
            "Time Out!\n",
            "Time Out!\n",
            "Time Out!\n",
            "Time Out!\n",
            "Time Out!\n",
            "Time Out!\n"
          ]
        },
        {
          "output_type": "stream",
          "name": "stderr",
          "text": [
            "\rpreprocessing:  95%|█████████▌| 218/229 [07:22<00:22,  2.03s/it]"
          ]
        },
        {
          "output_type": "stream",
          "name": "stdout",
          "text": [
            "Time Out!\n",
            "Time Out!\n",
            "Time Out!\n",
            "Time Out!\n",
            "Time Out!\n",
            "Time Out!\n",
            "Time Out!\n",
            "Time Out!\n",
            "Time Out!\n",
            "Time Out!\n",
            "Time Out!\n"
          ]
        },
        {
          "output_type": "stream",
          "name": "stderr",
          "text": [
            "\rpreprocessing:  96%|█████████▌| 219/229 [07:24<00:20,  2.03s/it]"
          ]
        },
        {
          "output_type": "stream",
          "name": "stdout",
          "text": [
            "Time Out!\n",
            "Time Out!\n",
            "Time Out!\n",
            "Time Out!\n",
            "Time Out!\n",
            "Time Out!\n",
            "Time Out!\n",
            "Time Out!\n",
            "Time Out!\n",
            "Time Out!\n",
            "Time Out!\n",
            "Time Out!\n",
            "Time Out!\n",
            "Time Out!\n",
            "Time Out!\n",
            "Time Out!\n",
            "Time Out!\n",
            "Time Out!\n",
            "Time Out!\n",
            "Time Out!\n",
            "Time Out!\n",
            "Time Out!\n",
            "Time Out!\n",
            "Time Out!\n",
            "Time Out!\n"
          ]
        },
        {
          "output_type": "stream",
          "name": "stderr",
          "text": [
            "\rpreprocessing:  96%|█████████▌| 220/229 [07:26<00:18,  2.04s/it]"
          ]
        },
        {
          "output_type": "stream",
          "name": "stdout",
          "text": [
            "Time Out!\n",
            "Time Out!\n",
            "Time Out!\n",
            "Time Out!\n",
            "Time Out!\n",
            "Time Out!\n",
            "Time Out!\n",
            "Time Out!\n",
            "Time Out!\n",
            "Time Out!\n",
            "Time Out!\n",
            "Time Out!\n",
            "Time Out!\n",
            "Time Out!\n",
            "Time Out!\n",
            "Time Out!\n",
            "Time Out!\n",
            "Time Out!\n",
            "Time Out!\n"
          ]
        },
        {
          "output_type": "stream",
          "name": "stderr",
          "text": [
            "\rpreprocessing:  97%|█████████▋| 221/229 [07:28<00:16,  2.04s/it]"
          ]
        },
        {
          "output_type": "stream",
          "name": "stdout",
          "text": [
            "Time Out!\n",
            "Time Out!\n",
            "Time Out!\n",
            "Time Out!\n",
            "Time Out!\n",
            "Time Out!\n",
            "Time Out!\n",
            "Time Out!\n",
            "Time Out!\n",
            "Time Out!\n",
            "Time Out!\n",
            "Time Out!\n",
            "Time Out!\n",
            "Time Out!\n",
            "Time Out!\n",
            "Time Out!\n",
            "Time Out!\n",
            "Time Out!\n",
            "Time Out!\n"
          ]
        },
        {
          "output_type": "stream",
          "name": "stderr",
          "text": [
            "\rpreprocessing:  97%|█████████▋| 222/229 [07:31<00:14,  2.05s/it]"
          ]
        },
        {
          "output_type": "stream",
          "name": "stdout",
          "text": [
            "Time Out!\n",
            "Time Out!\n",
            "Time Out!\n",
            "Time Out!\n",
            "Time Out!\n",
            "Time Out!\n",
            "Time Out!\n",
            "Time Out!\n",
            "Time Out!\n",
            "Time Out!\n",
            "Time Out!\n",
            "Time Out!\n",
            "Time Out!\n",
            "Time Out!\n",
            "Time Out!\n",
            "Time Out!\n",
            "Time Out!\n",
            "Time Out!\n",
            "Time Out!\n",
            "Time Out!\n",
            "Time Out!\n",
            "Time Out!\n",
            "Time Out!\n",
            "Time Out!\n",
            "Time Out!\n",
            "Time Out!\n"
          ]
        },
        {
          "output_type": "stream",
          "name": "stderr",
          "text": [
            "\rpreprocessing:  97%|█████████▋| 223/229 [07:33<00:12,  2.05s/it]"
          ]
        },
        {
          "output_type": "stream",
          "name": "stdout",
          "text": [
            "Time Out!\n",
            "Time Out!\n",
            "Time Out!\n",
            "Time Out!\n",
            "Time Out!\n",
            "Time Out!\n",
            "Time Out!\n"
          ]
        },
        {
          "output_type": "stream",
          "name": "stderr",
          "text": [
            "\rpreprocessing:  98%|█████████▊| 224/229 [07:35<00:10,  2.04s/it]"
          ]
        },
        {
          "output_type": "stream",
          "name": "stdout",
          "text": [
            "Time Out!\n",
            "Time Out!\n",
            "Time Out!\n",
            "Time Out!\n",
            "Time Out!\n",
            "Time Out!\n",
            "Time Out!\n"
          ]
        },
        {
          "output_type": "stream",
          "name": "stderr",
          "text": [
            "\rpreprocessing:  98%|█████████▊| 225/229 [07:37<00:08,  2.04s/it]"
          ]
        },
        {
          "output_type": "stream",
          "name": "stdout",
          "text": [
            "Time Out!\n",
            "Time Out!\n",
            "Time Out!\n",
            "Time Out!\n",
            "Time Out!\n",
            "Time Out!\n",
            "Time Out!\n",
            "Time Out!\n",
            "Time Out!\n",
            "Time Out!\n",
            "Time Out!\n",
            "Time Out!\n",
            "Time Out!\n",
            "Time Out!\n",
            "Time Out!\n",
            "Time Out!\n",
            "Time Out!\n",
            "Time Out!\n",
            "Time Out!\n",
            "Time Out!\n"
          ]
        },
        {
          "output_type": "stream",
          "name": "stderr",
          "text": [
            "\rpreprocessing:  99%|█████████▊| 226/229 [07:39<00:06,  2.04s/it]"
          ]
        },
        {
          "output_type": "stream",
          "name": "stdout",
          "text": [
            "Time Out!\n",
            "Time Out!\n",
            "Time Out!\n",
            "Time Out!\n",
            "Time Out!\n",
            "Time Out!\n",
            "Time Out!\n",
            "Time Out!\n",
            "Time Out!\n",
            "Time Out!\n",
            "Time Out!\n",
            "Time Out!\n",
            "Time Out!\n",
            "Time Out!\n",
            "Time Out!\n",
            "Time Out!\n",
            "Time Out!\n"
          ]
        },
        {
          "output_type": "stream",
          "name": "stderr",
          "text": [
            "\rpreprocessing:  99%|█████████▉| 227/229 [07:41<00:04,  2.05s/it]"
          ]
        },
        {
          "output_type": "stream",
          "name": "stdout",
          "text": [
            "Time Out!\n",
            "Time Out!\n",
            "Time Out!\n",
            "Time Out!\n",
            "Time Out!\n",
            "Time Out!\n"
          ]
        },
        {
          "output_type": "stream",
          "name": "stderr",
          "text": [
            "\rpreprocessing: 100%|█████████▉| 228/229 [07:43<00:02,  2.04s/it]"
          ]
        },
        {
          "output_type": "stream",
          "name": "stdout",
          "text": [
            "Time Out!\n",
            "Time Out!\n",
            "Time Out!\n",
            "Time Out!\n",
            "Time Out!\n",
            "Time Out!\n",
            "Time Out!\n",
            "Time Out!\n",
            "Time Out!\n",
            "Time Out!\n",
            "Time Out!\n",
            "Time Out!\n",
            "Time Out!\n",
            "Time Out!\n",
            "Time Out!\n",
            "Time Out!\n",
            "Time Out!\n",
            "Time Out!\n",
            "Time Out!\n",
            "Time Out!\n",
            "Time Out!\n",
            "Time Out!\n"
          ]
        },
        {
          "output_type": "stream",
          "name": "stderr",
          "text": [
            "preprocessing: 100%|██████████| 229/229 [07:45<00:00,  2.03s/it]\n"
          ]
        }
      ]
    },
    {
      "cell_type": "code",
      "source": [
        "naver_news_content"
      ],
      "metadata": {
        "colab": {
          "base_uri": "https://localhost:8080/"
        },
        "id": "H7QOicsEyi-u",
        "outputId": "ec6f1eb3-b689-4d4f-b83b-936e9fff9b2d"
      },
      "execution_count": 19,
      "outputs": [
        {
          "output_type": "execute_result",
          "data": {
            "text/plain": [
              "[[],\n",
              " [],\n",
              " [],\n",
              " [],\n",
              " [],\n",
              " [],\n",
              " [],\n",
              " [],\n",
              " [],\n",
              " [],\n",
              " [],\n",
              " [],\n",
              " [],\n",
              " [],\n",
              " [],\n",
              " [],\n",
              " [],\n",
              " [],\n",
              " [],\n",
              " [],\n",
              " [],\n",
              " [],\n",
              " [],\n",
              " [],\n",
              " [],\n",
              " [],\n",
              " [],\n",
              " [],\n",
              " [],\n",
              " [],\n",
              " [],\n",
              " [],\n",
              " [],\n",
              " [],\n",
              " [],\n",
              " [],\n",
              " [],\n",
              " [],\n",
              " [],\n",
              " [],\n",
              " [],\n",
              " [],\n",
              " [],\n",
              " [],\n",
              " [],\n",
              " [],\n",
              " [],\n",
              " [],\n",
              " [],\n",
              " [],\n",
              " [],\n",
              " [],\n",
              " [],\n",
              " [],\n",
              " [],\n",
              " [],\n",
              " [],\n",
              " [],\n",
              " [],\n",
              " [],\n",
              " [],\n",
              " [],\n",
              " [],\n",
              " [],\n",
              " [],\n",
              " [],\n",
              " [],\n",
              " [],\n",
              " [],\n",
              " [],\n",
              " [],\n",
              " [],\n",
              " [],\n",
              " [],\n",
              " [],\n",
              " [],\n",
              " [],\n",
              " [],\n",
              " [],\n",
              " [],\n",
              " [],\n",
              " [],\n",
              " [],\n",
              " [],\n",
              " [],\n",
              " [],\n",
              " [],\n",
              " [],\n",
              " [],\n",
              " [],\n",
              " [],\n",
              " [],\n",
              " [],\n",
              " [],\n",
              " [],\n",
              " [],\n",
              " [],\n",
              " [],\n",
              " [],\n",
              " [],\n",
              " [],\n",
              " [],\n",
              " [],\n",
              " [],\n",
              " [],\n",
              " [],\n",
              " [],\n",
              " [],\n",
              " [],\n",
              " [],\n",
              " [],\n",
              " [],\n",
              " [],\n",
              " [],\n",
              " [],\n",
              " [],\n",
              " [],\n",
              " [],\n",
              " [],\n",
              " [],\n",
              " [],\n",
              " [],\n",
              " [],\n",
              " [],\n",
              " [],\n",
              " [],\n",
              " [],\n",
              " [],\n",
              " [],\n",
              " [],\n",
              " [],\n",
              " [],\n",
              " [],\n",
              " [],\n",
              " [],\n",
              " [],\n",
              " [],\n",
              " [],\n",
              " [],\n",
              " [],\n",
              " [],\n",
              " [],\n",
              " [],\n",
              " [],\n",
              " [],\n",
              " [],\n",
              " [],\n",
              " [],\n",
              " [],\n",
              " [],\n",
              " [],\n",
              " [],\n",
              " [],\n",
              " [],\n",
              " [],\n",
              " [],\n",
              " [],\n",
              " [],\n",
              " [],\n",
              " [],\n",
              " [],\n",
              " [],\n",
              " [],\n",
              " [],\n",
              " [],\n",
              " [],\n",
              " [],\n",
              " [],\n",
              " [],\n",
              " [],\n",
              " [],\n",
              " [],\n",
              " [],\n",
              " [],\n",
              " [],\n",
              " [],\n",
              " [],\n",
              " [],\n",
              " [],\n",
              " [],\n",
              " [],\n",
              " [],\n",
              " [],\n",
              " [],\n",
              " [],\n",
              " [],\n",
              " [],\n",
              " [],\n",
              " [],\n",
              " [],\n",
              " [],\n",
              " [],\n",
              " [],\n",
              " [],\n",
              " [],\n",
              " [],\n",
              " [],\n",
              " [],\n",
              " [],\n",
              " [],\n",
              " [],\n",
              " [],\n",
              " [],\n",
              " [],\n",
              " [],\n",
              " [],\n",
              " [],\n",
              " [],\n",
              " [],\n",
              " [],\n",
              " [],\n",
              " [],\n",
              " [],\n",
              " [],\n",
              " [],\n",
              " [],\n",
              " [],\n",
              " [],\n",
              " [],\n",
              " [],\n",
              " [],\n",
              " [],\n",
              " [],\n",
              " [],\n",
              " [],\n",
              " [],\n",
              " [],\n",
              " [],\n",
              " []]"
            ]
          },
          "metadata": {},
          "execution_count": 19
        }
      ]
    },
    {
      "cell_type": "code",
      "source": [
        "import pickle\n",
        "\n",
        "# 크롤링된 결과 저장\n",
        "with open(\"data\\kr_naver_news_title.pk\",'wb') as f:\n",
        "    pickle.dump(naver_news_title,f)\n",
        "with open(\"data\\kr_naver_news_content.pk\",'wb') as f:\n",
        "    pickle.dump(naver_news_content,f)"
      ],
      "metadata": {
        "id": "AFQfpykhyj_F"
      },
      "execution_count": 20,
      "outputs": []
    }
  ]
}